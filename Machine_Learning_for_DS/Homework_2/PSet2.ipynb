{
 "cells": [
  {
   "cell_type": "code",
   "execution_count": 6,
   "metadata": {},
   "outputs": [],
   "source": [
    "import pandas as pd\n",
    "import numpy as np\n",
    "from numpy import linalg as la\n",
    "import random\n",
    "import math as m\n",
    "from decimal import Decimal  \n",
    "from sklearn.metrics import accuracy_score\n",
    "import matplotlib.pyplot as plt\n",
    "from sklearn.metrics import mean_squared_error as mse"
   ]
  },
  {
   "cell_type": "markdown",
   "metadata": {},
   "source": [
    "Problem 2"
   ]
  },
  {
   "cell_type": "code",
   "execution_count": 7,
   "metadata": {},
   "outputs": [],
   "source": [
    "ex = pd.read_csv(\"hw2-data/Bayes_classifier/X.csv\", header = None)\n",
    "why = pd.read_csv(\"hw2-data/Bayes_classifier/Y.csv\", header = None)"
   ]
  },
  {
   "cell_type": "code",
   "execution_count": 8,
   "metadata": {},
   "outputs": [],
   "source": [
    "def no_repeat_random(limit):\n",
    "    larry = list(range(limit))\n",
    "    lawrence = {}\n",
    "    for i in range(limit):\n",
    "        selected = random.choice(larry)\n",
    "        lawrence[i] = selected\n",
    "        larry.remove(selected)\n",
    "    return lawrence"
   ]
  },
  {
   "cell_type": "code",
   "execution_count": 9,
   "metadata": {},
   "outputs": [],
   "source": [
    "num_for_ex = no_repeat_random(len(ex))\n",
    "for i in range(len(ex)):\n",
    "    ex.loc[i, 'random_number'] = num_for_ex[i]"
   ]
  },
  {
   "cell_type": "code",
   "execution_count": 10,
   "metadata": {},
   "outputs": [],
   "source": [
    "for i in range(len(ex)):\n",
    "    if ex.loc[i, 'random_number'] <= ex.quantile(0.1)['random_number']:\n",
    "        ex.loc[i, 'group'] = 1\n",
    "    elif ex.loc[i, 'random_number'] <= ex.quantile(0.2)['random_number']:\n",
    "        ex.loc[i, 'group'] = 2\n",
    "    elif ex.loc[i, 'random_number'] <= ex.quantile(0.3)['random_number']:\n",
    "        ex.loc[i, 'group'] = 3\n",
    "    elif ex.loc[i, 'random_number'] <= ex.quantile(0.4)['random_number']:\n",
    "        ex.loc[i, 'group'] = 4\n",
    "    elif ex.loc[i, 'random_number'] <= ex.quantile(0.5)['random_number']:\n",
    "        ex.loc[i, 'group'] = 5\n",
    "    elif ex.loc[i, 'random_number'] <= ex.quantile(0.6)['random_number']:\n",
    "        ex.loc[i, 'group'] = 6\n",
    "    elif ex.loc[i, 'random_number'] <= ex.quantile(0.7)['random_number']:\n",
    "        ex.loc[i, 'group'] = 7\n",
    "    elif ex.loc[i, 'random_number'] <= ex.quantile(0.8)['random_number']:\n",
    "        ex.loc[i, 'group'] = 8\n",
    "    elif ex.loc[i, 'random_number'] <= ex.quantile(0.9)['random_number']:\n",
    "        ex.loc[i, 'group'] = 9\n",
    "    else:\n",
    "        ex.loc[i, 'group'] = 10\n"
   ]
  },
  {
   "cell_type": "code",
   "execution_count": 11,
   "metadata": {},
   "outputs": [],
   "source": [
    "ex = ex.drop(columns = ['random_number'])\n",
    "why['group'] = ex['group']"
   ]
  },
  {
   "cell_type": "code",
   "execution_count": 12,
   "metadata": {},
   "outputs": [],
   "source": [
    "def poisson(x_i, lam):\n",
    "    prob = Decimal((lam ** x_i) * m.e **(-1 * lam))/(Decimal(m.factorial(x_i)))# * Decimal(m.e**(lam)))\n",
    "    return Decimal(prob)"
   ]
  },
  {
   "cell_type": "code",
   "execution_count": 13,
   "metadata": {},
   "outputs": [],
   "source": [
    "def to_max(x, y_i, n_1, n_0):\n",
    "    lam = y_i * ((sum([y_i*x_i for x_i in x]) + 1)/(n_1 + 1)) + (1 - y_i) * ((sum([(1- y_i)*x_i for x_i in x]) + 1)/(n_0 + 1))\n",
    "    return lam"
   ]
  },
  {
   "cell_type": "code",
   "execution_count": 14,
   "metadata": {},
   "outputs": [],
   "source": [
    "final_results = [[0, 0], [0, 0]]\n",
    "accuracies = []\n",
    "lam_for_plot = {}\n",
    "\n",
    "for group_larry in set(ex['group']):\n",
    "    \n",
    "    #FIRST NINE ARE FOR TRAINING\n",
    "    prep_y = why[why['group'] != group_larry]\n",
    "    prep_x = ex[ex['group'] != group_larry]\n",
    "    \n",
    "    #LAST ONE IS FOR TESTING\n",
    "    test_y = why[why['group'] == group_larry]\n",
    "    test_x = ex[ex['group'] == group_larry]\n",
    "    \n",
    "    #GETTING PARAMS FOR PREDICTIONS\n",
    "    obs_1 = sum(prep_y[0])\n",
    "    obs_0 = sum(1 - prep_y[0])\n",
    "    \n",
    "    pi = Decimal(obs_1/prep_y.shape[0])\n",
    "    \n",
    "    lambdas_1 = {}\n",
    "    lambdas_0 = {}\n",
    "    for x in prep_x:\n",
    "        uptop_1_list = []\n",
    "        uptop_2_list = []\n",
    "        downlow_1_list = []\n",
    "        downlow_2_list = []\n",
    "        \n",
    "        for y in prep_y.index:\n",
    "            uptop_1 = prep_y.loc[y, 0] * prep_x.loc[y, x]\n",
    "            uptop_1_list.append(uptop_1)\n",
    "            \n",
    "            uptop_2 = (1 - prep_y.loc[y, 0]) * prep_x.loc[y, x]\n",
    "            uptop_2_list.append(uptop_2)\n",
    "            \n",
    "            downlow_1 = prep_y.loc[y, 0] + 1\n",
    "            downlow_1_list.append(downlow_1)\n",
    "            \n",
    "            downlow_2 = (1 - prep_y.loc[y, 0]) + 1\n",
    "            downlow_2_list.append(downlow_2)\n",
    "            \n",
    "        lam_1 = (sum(uptop_1_list)/(sum(downlow_1_list)))\n",
    "        lam_0 = (sum(uptop_2_list)/(sum(downlow_2_list)))\n",
    "    \n",
    "        lambdas_1[x] = lam_1\n",
    "        lambdas_0[x] = lam_0\n",
    "        \n",
    "        if group_larry == 1:\n",
    "            lam_for_plot[x] = lam_1 + lam_0\n",
    "        else:\n",
    "            lam_for_plot[x] += lam_1 + lam_0\n",
    "    \n",
    "    #MAKING PREDICTIONS\n",
    "    test_results = {}\n",
    "    real = test_y[0]\n",
    "    pred = []\n",
    "    for i in test_y.index:\n",
    "        indi = {}\n",
    "        indi['actual'] = test_y.loc[i, 0]\n",
    "\n",
    "        all_x_larries_1 = []\n",
    "        all_x_larries_0 = []\n",
    "        \n",
    "        for x in test_x:\n",
    "            \n",
    "            x_cond_lam_1 = poisson(test_x.loc[i, x], lambdas_1[x])\n",
    "            x_cond_lam_0 = poisson(test_x.loc[i, x], lambdas_0[x])\n",
    "            all_x_larries_1.append(x_cond_lam_1)\n",
    "            all_x_larries_0.append(x_cond_lam_0)\n",
    "            \n",
    "\n",
    "        eq_1 = pi * Decimal(np.prod(all_x_larries_1))\n",
    "        eq_2 = (1 - pi) * Decimal(np.prod(all_x_larries_0))\n",
    "        \n",
    "        if eq_1 > eq_2:\n",
    "            indi['predicted'] = 1\n",
    "        else:\n",
    "            indi['predicted'] = 0\n",
    "        test_results[i] = indi\n",
    "        pred.append(indi['predicted'])\n",
    "\n",
    "    for i in test_results:\n",
    "        if test_results[i]['actual'] == 0 and test_results[i]['predicted'] == 0:\n",
    "            final_results[0][0] += 1\n",
    "        elif test_results[i]['actual'] == 0 and test_results[i]['predicted'] == 1:\n",
    "            final_results[0][1] += 1\n",
    "        elif test_results[i]['actual'] == 1 and test_results[i]['predicted'] == 0:\n",
    "            final_results[1][0] += 1\n",
    "        if test_results[i]['actual'] == 1 and test_results[i]['predicted'] == 1:\n",
    "            final_results[1][1] += 1\n",
    "    \n",
    "    accuracies.append(accuracy_score(real, pred))"
   ]
  },
  {
   "cell_type": "code",
   "execution_count": 15,
   "metadata": {},
   "outputs": [
    {
     "data": {
      "text/plain": [
       "0.8521739130434782"
      ]
     },
     "execution_count": 15,
     "metadata": {},
     "output_type": "execute_result"
    }
   ],
   "source": [
    "(final_results[1][1] + final_results[0][0])/(final_results[1][1] + final_results[0][0] + final_results[0][1] + final_results[1][0])"
   ]
  },
  {
   "cell_type": "code",
   "execution_count": 16,
   "metadata": {},
   "outputs": [
    {
     "data": {
      "text/plain": [
       "0.8521739130434781"
      ]
     },
     "execution_count": 16,
     "metadata": {},
     "output_type": "execute_result"
    }
   ],
   "source": [
    "np.mean(accuracies)"
   ]
  },
  {
   "cell_type": "code",
   "execution_count": 17,
   "metadata": {},
   "outputs": [],
   "source": [
    "for lam in lam_for_plot:\n",
    "    lam_for_plot[lam] = lam_for_plot[lam]/10"
   ]
  },
  {
   "cell_type": "code",
   "execution_count": 18,
   "metadata": {},
   "outputs": [
    {
     "name": "stderr",
     "output_type": "stream",
     "text": [
      "<ipython-input-18-32d64745c9fc>:1: UserWarning: In Matplotlib 3.3 individual lines on a stem plot will be added as a LineCollection instead of individual lines. This significantly improves the performance of a stem plot. To remove this warning and switch to the new behaviour, set the \"use_line_collection\" keyword argument to True.\n",
      "  plt.stem(lam_for_plot.values())\n"
     ]
    },
    {
     "data": {
      "text/plain": [
       "Text(0, 0.5, 'λ')"
      ]
     },
     "execution_count": 18,
     "metadata": {},
     "output_type": "execute_result"
    },
    {
     "data": {
      "image/png": "[encoded data removed]",
      "text/plain": [
       "<Figure size 432x288 with 1 Axes>"
      ]
     },
     "metadata": {
      "needs_background": "light"
     },
     "output_type": "display_data"
    }
   ],
   "source": [
    "plt.stem(lam_for_plot.values())\n",
    "plt.title(\"Stem Plot of Poisson Parameters\")\n",
    "plt.xlabel(\"Dimension\")\n",
    "plt.ylabel(\"λ\")\n",
    "#plt.savefig(\"poisson_stem\")"
   ]
  },
  {
   "cell_type": "code",
   "execution_count": 19,
   "metadata": {},
   "outputs": [
    {
     "data": {
      "text/plain": [
       "{0: 0.7174245978400162,\n",
       " 1: 1.3990039016212452,\n",
       " 2: 1.9143526344958421,\n",
       " 3: 0.4692904876219159,\n",
       " 4: 2.1482331084858495,\n",
       " 5: 0.6695318320917625,\n",
       " 6: 0.8229264478840325,\n",
       " 7: 0.7416113535954699,\n",
       " 8: 0.6315092400027231,\n",
       " 9: 1.6357914325677636,\n",
       " 10: 0.4231321129055027,\n",
       " 11: 3.5959920150663622,\n",
       " 12: 0.6468912111099218,\n",
       " 13: 0.4029507151545624,\n",
       " 14: 0.35102023820550976,\n",
       " 15: 1.7536520095178392,\n",
       " 16: 0.9995569005471842,\n",
       " 17: 1.2777461033145807,\n",
       " 18: 11.216384462608994,\n",
       " 19: 0.6138673175620237,\n",
       " 20: 5.57522795240998,\n",
       " 21: 0.8444489062837366,\n",
       " 22: 0.7321327771026586,\n",
       " 23: 0.6702683122542236,\n",
       " 24: 3.4362567486845963,\n",
       " 25: 1.6627539534006122,\n",
       " 26: 4.786690823539557,\n",
       " 27: 0.7878440834078653,\n",
       " 28: 0.6180001268719213,\n",
       " 29: 0.6455168620097129,\n",
       " 30: 0.4058050088157281,\n",
       " 31: 0.2949162976414866,\n",
       " 32: 0.6153623109067854,\n",
       " 33: 0.30026241399540937,\n",
       " 34: 0.6618600378417587,\n",
       " 35: 0.6221337441303939,\n",
       " 36: 0.8752730211221056,\n",
       " 37: 0.08434713964874008,\n",
       " 38: 0.4962861304578922,\n",
       " 39: 0.42186083963156634,\n",
       " 40: 0.2732003793212555,\n",
       " 41: 0.8264541041837188,\n",
       " 42: 0.293071388189477,\n",
       " 43: 0.49906519662773674,\n",
       " 44: 1.9301340167939316,\n",
       " 45: 1.1278987505423301,\n",
       " 46: 0.03423468524230038,\n",
       " 47: 0.19908070159589125,\n",
       " 48: 0.24384169300217767,\n",
       " 49: 0.9163048195732133,\n",
       " 50: 0.10811157835328189,\n",
       " 51: 1.8643631931030022,\n",
       " 52: 0.5376005598281707,\n",
       " 53: 0.3027045215737768,\n",
       " 'group': 3.6284577662394106}"
      ]
     },
     "execution_count": 19,
     "metadata": {},
     "output_type": "execute_result"
    }
   ],
   "source": [
    "lam_for_plot"
   ]
  },
  {
   "cell_type": "code",
   "execution_count": 20,
   "metadata": {},
   "outputs": [],
   "source": [
    "log_ex = ex.copy()\n",
    "log_why = why.copy()"
   ]
  },
  {
   "cell_type": "code",
   "execution_count": 21,
   "metadata": {},
   "outputs": [],
   "source": [
    "for i in log_why.index:\n",
    "    if log_why.loc[i, 0] == 0:\n",
    "        log_why.loc[i, 0] = -1"
   ]
  },
  {
   "cell_type": "code",
   "execution_count": 22,
   "metadata": {},
   "outputs": [],
   "source": [
    "log_ex[54] = 1"
   ]
  },
  {
   "cell_type": "code",
   "execution_count": 23,
   "metadata": {},
   "outputs": [],
   "source": [
    "def sigmoid(x):\n",
    "    return np.exp(x)/(1 + np.exp(x))"
   ]
  },
  {
   "cell_type": "code",
   "execution_count": 24,
   "metadata": {},
   "outputs": [],
   "source": [
    "def to_the(y, x, w):\n",
    "    return y * np.dot(x, w)"
   ]
  },
  {
   "cell_type": "code",
   "execution_count": 25,
   "metadata": {},
   "outputs": [],
   "source": [
    "def gradient(y, x, w):\n",
    "    return np.dot((1 - sigmoid(to_the(y, x, w))), [y * x_i for x_i in x])\n"
   ]
  },
  {
   "cell_type": "code",
   "execution_count": 26,
   "metadata": {},
   "outputs": [],
   "source": [
    "def obj_function(y, x, w):\n",
    "    return np.log(sigmoid(to_the(y, x, w)))"
   ]
  },
  {
   "cell_type": "code",
   "execution_count": 27,
   "metadata": {},
   "outputs": [],
   "source": [
    "st_asc_df = pd.DataFrame(columns = ['run', 'iteration', 'objective function'])\n",
    "st_asc_dict = st_asc_df.to_dict()"
   ]
  },
  {
   "cell_type": "code",
   "execution_count": 28,
   "metadata": {},
   "outputs": [],
   "source": [
    "step = 0.01/4600\n",
    "\n",
    "w = []\n",
    "\n",
    "for i in range(len(log_ex.drop(columns = 'group').T)):\n",
    "    w.append(0)"
   ]
  },
  {
   "cell_type": "code",
   "execution_count": 29,
   "metadata": {},
   "outputs": [],
   "source": [
    "counter = 0\n",
    "st_asc = {}\n",
    "for group_larry in set(log_ex['group']):\n",
    "    log_why_prep_t = log_why[log_why['group'] != group_larry]\n",
    "    log_ex_prep_t = log_ex[log_ex['group'] != group_larry]\n",
    "\n",
    "\n",
    "    w = []\n",
    "\n",
    "    for i in range(len(log_ex.drop(columns = 'group').T)):\n",
    "        w.append(0)\n",
    "\n",
    "    log_ex_prep_dict = log_ex_prep_t.drop(columns = 'group').T.to_dict()\n",
    "    log_why_prep_dict = log_why_prep_t.drop(columns = 'group').T.to_dict()\n",
    "\n",
    "    indi = {}\n",
    "    for i in range(1001):\n",
    "        \n",
    "        grad_sum = []\n",
    "        obj_sum = []\n",
    "\n",
    "        for j in log_why_prep_dict.keys():\n",
    "            y_i = log_why_prep_dict[j][0]\n",
    "            x_i = list(log_ex_prep_dict[j].values())\n",
    "\n",
    "            grad_sum.append(gradient(y_i, x_i, w))\n",
    "            obj_sum.append(np.log(sigmoid(to_the(y_i, x_i, w))))\n",
    "\n",
    "        indi[i] = sum(obj_sum)\n",
    "\n",
    "        w = w + step * sum(grad_sum)\n",
    "        counter += 1\n",
    "        #print(counter)\n",
    "    st_asc[group_larry] = indi"
   ]
  },
  {
   "cell_type": "code",
   "execution_count": 30,
   "metadata": {},
   "outputs": [],
   "source": [
    "first_run = st_asc[1]\n",
    "second_run = st_asc[2]\n",
    "third_run = st_asc[3]\n",
    "fourth_run = st_asc[4]\n",
    "fifth_run = st_asc[5]\n",
    "sixth_run = st_asc[6]\n",
    "seventh_run = st_asc[7]\n",
    "eighth_run = st_asc[8]\n",
    "ninth_run = st_asc[9]\n",
    "tenth_run = st_asc[10]\n"
   ]
  },
  {
   "cell_type": "code",
   "execution_count": 31,
   "metadata": {},
   "outputs": [
    {
     "data": {
      "text/plain": [
       "<matplotlib.legend.Legend at 0x7fa29063adf0>"
      ]
     },
     "execution_count": 31,
     "metadata": {},
     "output_type": "execute_result"
    },
    {
     "data": {
      "image/png": "[encoded data removed]",
      "text/plain": [
       "<Figure size 432x288 with 1 Axes>"
      ]
     },
     "metadata": {
      "needs_background": "light"
     },
     "output_type": "display_data"
    }
   ],
   "source": [
    "plt.plot(np.array(list(first_run.keys())), np.array(list(first_run.values())), label = \"Run 1\")\n",
    "plt.plot(np.array(list(second_run.keys())), np.array(list(first_run.values())), label = \"Run 2\")\n",
    "plt.plot(np.array(list(third_run.keys())), np.array(list(first_run.values())), label = \"Run 3\")\n",
    "plt.plot(np.array(list(fourth_run.keys())), np.array(list(first_run.values())), label = \"Run 4\")\n",
    "plt.plot(np.array(list(fifth_run.keys())), np.array(list(first_run.values())), label = \"Run 5\")\n",
    "plt.plot(np.array(list(sixth_run.keys())), np.array(list(first_run.values())), label = \"Run 6\")\n",
    "plt.plot(np.array(list(seventh_run.keys())), np.array(list(first_run.values())), label = \"Run 7\")\n",
    "plt.plot(np.array(list(eighth_run.keys())), np.array(list(first_run.values())), label = \"Run 8\")\n",
    "plt.plot(np.array(list(ninth_run.keys())), np.array(list(first_run.values())), label = \"Run 9\")\n",
    "plt.plot(np.array(list(tenth_run.keys())), np.array(list(first_run.values())), label = \"Run 10\")\n",
    "plt.title(\"Objective Function over Time\")\n",
    "plt.xlabel(\"Iteration\")\n",
    "plt.ylabel(\"Objective Function\")\n",
    "plt.legend()\n",
    "#plt.savefig(\"log_reg_obj_funct\")\n",
    "\n"
   ]
  },
  {
   "cell_type": "code",
   "execution_count": 42,
   "metadata": {},
   "outputs": [],
   "source": [
    "def hess(y, x, w):\n",
    "    first_half = np.dot(sigmoid(to_the(y, x, w)), (1 - sigmoid(to_the(y, x, w))))\n",
    "    second_half = np.dot(x, x)\n",
    "    return -np.dot(first_half, second_half)\n"
   ]
  },
  {
   "cell_type": "code",
   "execution_count": 43,
   "metadata": {},
   "outputs": [],
   "source": [
    "counter = 0\n",
    "new_meth = {}\n",
    "for group_larry in set(log_ex['group']):\n",
    "    log_why_prep_t = log_why[log_why['group'] != group_larry]\n",
    "    log_ex_prep_t = log_ex[log_ex['group'] != group_larry]\n",
    "    \n",
    "\n",
    "\n",
    "    w = []\n",
    "\n",
    "    for i in range(len(log_ex.drop(columns = 'group').T)):\n",
    "        w.append(0)\n",
    "\n",
    "    log_ex_prep_dict = log_ex_prep_t.drop(columns = 'group').T.to_dict()\n",
    "    log_why_prep_dict = log_why_prep_t.drop(columns = 'group').T.to_dict()\n",
    "\n",
    "    indi = {}\n",
    "    for i in range(100):\n",
    "        \n",
    "        hessian = np.zeros((len(log_why), len(log_ex.drop(columns = ['group']).T)))\n",
    "        grad_sum = []\n",
    "        obj_sum = []\n",
    "        hess_sum = []\n",
    "\n",
    "        for j in log_why_prep_dict.keys():\n",
    "            y_i = log_why_prep_dict[j][0]\n",
    "            x_i = list(log_ex_prep_dict[j].values())\n",
    "            \n",
    "\n",
    "\n",
    "            grad_sum.append(gradient(y_i, x_i, w))\n",
    "            obj_sum.append(np.log(sigmoid(to_the(y_i, x_i, w))))\n",
    "            hess_sum.append(hess(y_i, x_i, w))\n",
    "        indi[i] = sum(obj_sum)\n",
    "        \n",
    "        \n",
    "        w = w - np.dot(sum(hessian), sum(grad_sum))\n",
    "        counter += 1\n",
    "        #print(counter)\n",
    "    new_meth[group_larry] = indi"
   ]
  },
  {
   "cell_type": "code",
   "execution_count": 44,
   "metadata": {},
   "outputs": [],
   "source": [
    "nm_first_run = new_meth[1]\n",
    "nm_second_run = new_meth[2]\n",
    "nm_third_run = new_meth[3]\n",
    "nm_fourth_run = new_meth[4]\n",
    "nm_fifth_run = new_meth[5]\n",
    "nm_sixth_run = new_meth[6]\n",
    "nm_seventh_run = new_meth[7]\n",
    "nm_eighth_run = new_meth[8]\n",
    "nm_ninth_run = new_meth[9]\n",
    "nm_tenth_run = new_meth[10]\n"
   ]
  },
  {
   "cell_type": "code",
   "execution_count": 45,
   "metadata": {},
   "outputs": [
    {
     "data": {
      "text/plain": [
       "<matplotlib.legend.Legend at 0x7fa29112c310>"
      ]
     },
     "execution_count": 45,
     "metadata": {},
     "output_type": "execute_result"
    },
    {
     "data": {
      "image/png": "[encoded data removed]",
      "text/plain": [
       "<Figure size 432x288 with 1 Axes>"
      ]
     },
     "metadata": {
      "needs_background": "light"
     },
     "output_type": "display_data"
    }
   ],
   "source": [
    "plt.plot(np.array(list(nm_first_run.keys())), np.array(list(nm_first_run.values())), label = \"Run 1\")\n",
    "plt.plot(np.array(list(nm_second_run.keys())), np.array(list(nm_first_run.values())), label = \"Run 2\")\n",
    "plt.plot(np.array(list(nm_third_run.keys())), np.array(list(nm_first_run.values())), label = \"Run 3\")\n",
    "plt.plot(np.array(list(nm_fourth_run.keys())), np.array(list(nm_first_run.values())), label = \"Run 4\")\n",
    "plt.plot(np.array(list(nm_fifth_run.keys())), np.array(list(nm_first_run.values())), label = \"Run 5\")\n",
    "plt.plot(np.array(list(nm_sixth_run.keys())), np.array(list(nm_first_run.values())), label = \"Run 6\")\n",
    "plt.plot(np.array(list(nm_seventh_run.keys())), np.array(list(nm_first_run.values())), label = \"Run 7\")\n",
    "plt.plot(np.array(list(nm_eighth_run.keys())), np.array(list(nm_first_run.values())), label = \"Run 8\")\n",
    "plt.plot(np.array(list(nm_ninth_run.keys())), np.array(list(nm_first_run.values())), label = \"Run 9\")\n",
    "plt.plot(np.array(list(nm_tenth_run.keys())), np.array(list(nm_first_run.values())), label = \"Run 10\")\n",
    "plt.title(\"Objective Function over Time\")\n",
    "plt.xlabel(\"Iteration\")\n",
    "plt.ylabel(\"Objective Function\")\n",
    "plt.legend()"
   ]
  },
  {
   "cell_type": "markdown",
   "metadata": {},
   "source": [
    "Problem 3 "
   ]
  },
  {
   "cell_type": "code",
   "execution_count": 32,
   "metadata": {},
   "outputs": [],
   "source": [
    "ex_train = pd.read_csv(\"hw2-data/Gaussian_process/X_train.csv\", header = None)\n",
    "why_train = pd.read_csv(\"hw2-data/Gaussian_process/y_train.csv\", header = None)\n",
    "\n",
    "ex_test = pd.read_csv(\"hw2-data/Gaussian_process/X_test.csv\", header = None)\n",
    "why_test = pd.read_csv(\"hw2-data/Gaussian_process/y_test.csv\", header = None)"
   ]
  },
  {
   "cell_type": "code",
   "execution_count": 33,
   "metadata": {},
   "outputs": [],
   "source": [
    "def kern(x_1, x_2, b):\n",
    "    top_base = np.subtract(x_1, x_2)\n",
    "    numerator = np.dot(top_base, top_base)\n",
    "    denom = -1 * b\n",
    "    to_the = numerator/denom\n",
    "    final = m.e ** to_the\n",
    "    return final"
   ]
  },
  {
   "cell_type": "code",
   "execution_count": 34,
   "metadata": {},
   "outputs": [],
   "source": [
    "def build_k_n(x, b):\n",
    "    \n",
    "    k_n = [[0 for i in range(len(x))] for j in range(len(x))]\n",
    "\n",
    "    for i in range(len(x)):\n",
    "        for j in range(len(x)):\n",
    "            k_n[i][j] = kern(x.loc[i], x.loc[j], b)\n",
    "    return k_n"
   ]
  },
  {
   "cell_type": "code",
   "execution_count": 35,
   "metadata": {},
   "outputs": [],
   "source": [
    "def build_k_new(known_x, new_x, b):\n",
    "    \n",
    "    k_new = []\n",
    "    \n",
    "    for i in range(len(known_x)):\n",
    "        k_new.append(kern(new_x, known_x.loc[i], b))\n",
    "        \n",
    "    return k_new"
   ]
  },
  {
   "cell_type": "code",
   "execution_count": 36,
   "metadata": {},
   "outputs": [],
   "source": [
    "def find_mean(known_x, new_x, sig_sq, kernel_known, kernel_new, y):\n",
    "    \n",
    "    k_n = kernel_known\n",
    "    \n",
    "    k_new = kernel_new\n",
    "    \n",
    "    first_part = k_new #kern(new_x, known_x, b)\n",
    "    \n",
    "    ident = sig_sq * np.identity(len(k_n))\n",
    "    second_part = np.add(ident, k_n)\n",
    "    second_part = la.inv(second_part)\n",
    "    \n",
    "    combined = np.dot(first_part, second_part)\n",
    "    \n",
    "    final = np.dot(combined, y)[0]\n",
    "    return final"
   ]
  },
  {
   "cell_type": "code",
   "execution_count": 37,
   "metadata": {},
   "outputs": [],
   "source": [
    "sig_b_mse = pd.DataFrame(columns = ['Sigma Squared', 'b', 'RMSE'])\n",
    "\n",
    "counter = 0\n",
    "\n",
    "for b in (5,7,9,11,13,15):\n",
    "    first_k_n = build_k_n(ex_train, b)\n",
    "    \n",
    "    for sig_squared in (.1,.2,.3,.4,.5,.6,.7,.8,.9,1):\n",
    "        \n",
    "        sig_b_mse.loc[counter, 'Sigma Squared'] = sig_squared\n",
    "        sig_b_mse.loc[counter, 'b'] = b\n",
    "        \n",
    "        preds = []\n",
    "        \n",
    "        for i in why_test.index:\n",
    "            \n",
    "            x_vect = ex_test.loc[i]\n",
    "\n",
    "            pred = find_mean(ex_train, x_vect, sig_squared, first_k_n, build_k_new(ex_train, x_vect, 7), why_train)\n",
    "            preds.append(pred)\n",
    "            \n",
    "        rmse = mse(why_test, preds, squared = False)\n",
    "        sig_b_mse.loc[counter, 'RMSE'] = rmse\n",
    "        \n",
    "        counter += 1"
   ]
  },
  {
   "cell_type": "code",
   "execution_count": 38,
   "metadata": {},
   "outputs": [],
   "source": [
    "sig_b_mse1 = sig_b_mse\n",
    "sig_b_mse1['RMSE'] = sig_b_mse1['RMSE'].apply(lambda x: round(x,4))\n",
    "letsc = sig_b_mse1.pivot(index = 'Sigma Squared', columns = 'b', values = 'RMSE')\n",
    "\n",
    "#letsc.to_csv(\"prob_3_a_table.csv\")"
   ]
  },
  {
   "cell_type": "code",
   "execution_count": 39,
   "metadata": {},
   "outputs": [],
   "source": [
    "d4_y_df = pd.DataFrame(columns = ['d4', 'y', 'pred'])\n",
    "\n",
    "counter = 0\n",
    "\n",
    "\n",
    "first_k_n = build_k_n(ex_train, 5)\n",
    "    \n",
    "\n",
    "preds = []\n",
    "\n",
    "for i in why_test.index:\n",
    "\n",
    "    x_vect = ex_test.loc[i, 3]\n",
    "    \n",
    "    d4_y_df.loc[counter, 'd4'] = ex_test.loc[i, 3]\n",
    "    d4_y_df.loc[counter, 'y'] = why_test.loc[i, 0]\n",
    "\n",
    "    pred = find_mean(ex_train[3], x_vect, sig_squared, first_k_n, build_k_new(ex_train[3], x_vect, 7), why_train)\n",
    "    \n",
    "    d4_y_df.loc[counter, 'pred'] = pred\n",
    "    counter +=1\n",
    "\n",
    "    \n",
    "\n",
    "   "
   ]
  },
  {
   "cell_type": "code",
   "execution_count": 40,
   "metadata": {},
   "outputs": [
    {
     "data": {
      "text/plain": [
       "Text(0, 0.5, 'Y')"
      ]
     },
     "execution_count": 40,
     "metadata": {},
     "output_type": "execute_result"
    },
    {
     "data": {
      "image/png": "[encoded data removed]",
      "text/plain": [
       "<Figure size 432x288 with 1 Axes>"
      ]
     },
     "metadata": {
      "needs_background": "light"
     },
     "output_type": "display_data"
    }
   ],
   "source": [
    "plt.scatter(d4_y_df['d4'], d4_y_df['y'])\n",
    "plt.plot(d4_y_df.sort_values(by = 'd4')['d4'], d4_y_df.sort_values(by = 'd4')['pred'])\n",
    "plt.title(\"Actual/Predicted Ys based on the fourth dimension\")\n",
    "plt.xlabel(\"Fourth Dimension\")\n",
    "plt.ylabel(\"Y\")\n",
    "#plt.savefig(\"d4_vs_y\")"
   ]
  }
 ],
 "metadata": {
  "kernelspec": {
   "display_name": "Python 3",
   "language": "python",
   "name": "python3"
  },
  "language_info": {
   "codemirror_mode": {
    "name": "ipython",
    "version": 3
   },
   "file_extension": ".py",
   "mimetype": "text/x-python",
   "name": "python",
   "nbconvert_exporter": "python",
   "pygments_lexer": "ipython3",
   "version": "3.8.3"
  }
 },
 "nbformat": 4,
 "nbformat_minor": 4
}
