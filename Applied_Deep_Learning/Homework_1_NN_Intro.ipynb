{
 "cells": [
  {
   "cell_type": "markdown",
   "metadata": {},
   "source": [
    "Below is the code and output from my first homework assignment from my Applied Deep Learning course from my Master's in Data Science program from Columbia University (from the Fall semester of 2022). Please note that this notebook is not maintained, so it may not run correctly for someone else."
   ]
  },
  {
   "cell_type": "markdown",
   "metadata": {
    "id": "-PZihj-d_tEt"
   },
   "source": [
    "**Assignment 1**\n",
    "\n",
    "## About\n",
    "In this assignment, you will gain experience implementing a linear model, a neural network, and a deep neural network using TensorFlow 2.0. \n",
    "\n",
    "* You will use two different development styles. I thought it’d be helpful for you to see both of these early (if you’re familiar with them, you can branch out to any major framework that exist today). \n",
    "\n",
    "* Along the way, you'll add code to visualize the weights of a linear model, and provide your own implementation of softmax (so you learn to extend the built-in functionality right off the bat).\n",
    "\n",
    "This assignment has several parts, plan ahead and get started early (and come to office hours if you’re stuck, the CAs are happy to help).\n",
    "\n",
    "## Instructions\n",
    "\n",
    "Complete the code in this notebook by searching for the text **\"TODO\"**.\n",
    "\n",
    "## Submission instructions\n",
    "\n",
    "Please submit this assignment on CourseWorks by uploading a Jupyter notebook that includes saved output. If you are working in Colab, you can prepare your notebook for submission by ensuring that runs end-to-end, then saving and downloading it:\n",
    "\n",
    "1. ```Runtime -> Restart and run all```\n",
    "1. ```File -> Save```\n",
    "1. ```File -> Download.ipynb```\n",
    "\n",
    "## Resources\n",
    "\n",
    "You can find all the latest tutorials for TensorFlow 2.0 [here](https://www.tensorflow.org/tutorials). Code examples that will help you with each part of the assignment are linked below.\n",
    "\n",
    "\n",
    "\n",
    "---\n",
    "\n"
   ]
  },
  {
   "cell_type": "markdown",
   "metadata": {
    "id": "KZ5ssDBBl9n6"
   },
   "source": [
    "## Setup"
   ]
  },
  {
   "cell_type": "markdown",
   "metadata": {
    "id": "MDj1_w6v-mYW"
   },
   "source": [
    "### Install TensorFlow 2.0\n",
    "\n",
    "The most recent version of TensorFlow is alreadey installed in Colab. If you prefer working in Jupyter locally, you will need to install TensorFlow following these [instructions](http://tensorflow.org/install)."
   ]
  },
  {
   "cell_type": "markdown",
   "metadata": {
    "id": "QYSALG-y-_7b"
   },
   "source": [
    "### Check which TF version is installed\n",
    "It's good practice to check which version you have installed."
   ]
  },
  {
   "cell_type": "code",
   "execution_count": 1,
   "metadata": {
    "colab": {
     "base_uri": "https://localhost:8080/"
    },
    "id": "21RQ0x71Ut_t",
    "outputId": "0639eb15-c32f-4476-c46c-08def3c1d466"
   },
   "outputs": [
    {
     "name": "stdout",
     "output_type": "stream",
     "text": [
      "2.8.2\n"
     ]
    }
   ],
   "source": [
    "# IMPORTS\n",
    "import tensorflow as tf\n",
    "print(tf.__version__)"
   ]
  },
  {
   "cell_type": "code",
   "execution_count": 2,
   "metadata": {
    "id": "JQPA61YHUvht"
   },
   "outputs": [],
   "source": [
    "from tensorflow.keras.layers import Dense, Flatten \n",
    "from tensorflow.keras import Model\n",
    "import matplotlib.pyplot as plt"
   ]
  },
  {
   "cell_type": "markdown",
   "metadata": {
    "id": "9vfWS0eYvzae"
   },
   "source": [
    "## Part 1: First steps with Sequential models\n",
    "\n",
    "You will work with the Sequential API in this section. This is the easiest way to develop models with TF 2.0, and is the most common in practice. \n",
    "\n",
    "Here are a few code examples that will help you with this part of the assignment:\n",
    "\n",
    "* [Get started for beginners](https://www.tensorflow.org/tutorials/quickstart/beginner)\n",
    "* [Classify images](https://www.tensorflow.org/tutorials/keras/basic_classification)\n",
    "* [Explore overfitting and underfitting](https://www.tensorflow.org/tutorials/keras/overfit_and_underfit)"
   ]
  },
  {
   "cell_type": "markdown",
   "metadata": {
    "id": "6X5681LTm0jC"
   },
   "source": [
    "### Download and prepare a dataset"
   ]
  },
  {
   "cell_type": "code",
   "execution_count": 3,
   "metadata": {
    "colab": {
     "base_uri": "https://localhost:8080/"
    },
    "id": "KHL51OKlmwyw",
    "outputId": "5080fbcf-015e-4b1f-dc90-7ea95dd28df4"
   },
   "outputs": [
    {
     "name": "stdout",
     "output_type": "stream",
     "text": [
      "Downloading data from https://storage.googleapis.com/tensorflow/tf-keras-datasets/mnist.npz\n",
      "11493376/11490434 [==============================] - 0s 0us/step\n",
      "11501568/11490434 [==============================] - 0s 0us/step\n"
     ]
    }
   ],
   "source": [
    "# GET DATASET AND SPLIT\n",
    "mnist = tf.keras.datasets.mnist\n",
    "\n",
    "(x_train, y_train), (x_test, y_test) = mnist.load_data()\n",
    "# SCALE PIXEL DATA\n",
    "x_train, x_test = x_train / 255.0, x_test / 255.0"
   ]
  },
  {
   "cell_type": "markdown",
   "metadata": {
    "id": "daw-THC6m4u6"
   },
   "source": [
    "### Define, train, and evaluate a linear model"
   ]
  },
  {
   "cell_type": "code",
   "execution_count": 4,
   "metadata": {
    "colab": {
     "base_uri": "https://localhost:8080/"
    },
    "id": "MHWcSJEQm8jB",
    "outputId": "1f15a8bb-6970-469e-f11c-36e6049b3d9a"
   },
   "outputs": [
    {
     "name": "stdout",
     "output_type": "stream",
     "text": [
      "Epoch 1/5\n",
      "1875/1875 [==============================] - 8s 4ms/step - loss: 0.4714 - accuracy: 0.8765\n",
      "Epoch 2/5\n",
      "1875/1875 [==============================] - 8s 4ms/step - loss: 0.3047 - accuracy: 0.9149\n",
      "Epoch 3/5\n",
      "1875/1875 [==============================] - 5s 3ms/step - loss: 0.2839 - accuracy: 0.9210\n",
      "Epoch 4/5\n",
      "1875/1875 [==============================] - 3s 2ms/step - loss: 0.2734 - accuracy: 0.9237\n",
      "Epoch 5/5\n",
      "1875/1875 [==============================] - 3s 2ms/step - loss: 0.2670 - accuracy: 0.9255\n",
      "313/313 [==============================] - 1s 2ms/step - loss: 0.2673 - accuracy: 0.9265\n"
     ]
    },
    {
     "data": {
      "text/plain": [
       "[0.26728391647338867, 0.9265000224113464]"
      ]
     },
     "execution_count": 4,
     "metadata": {},
     "output_type": "execute_result"
    }
   ],
   "source": [
    "# SIMPLE CLASSIFICATION MODEL\n",
    "model = tf.keras.models.Sequential([\n",
    "  tf.keras.layers.Flatten(input_shape=(28, 28)),\n",
    "  tf.keras.layers.Dense(10, activation='softmax') #SOFTMAX FOR PROBS\n",
    "])\n",
    "\n",
    "model.compile(optimizer='adam',\n",
    "              loss='sparse_categorical_crossentropy',\n",
    "              metrics=['accuracy'])\n",
    "\n",
    "model.fit(x_train, y_train, epochs=5)\n",
    "model.evaluate(x_test, y_test)"
   ]
  },
  {
   "cell_type": "markdown",
   "metadata": {
    "id": "KyLE9HJbwRDp"
   },
   "source": [
    "### 1a: Plot loss and accuracy\n",
    "\n",
    "**TODO**\n",
    "\n",
    "Modify the code below to produce plots showing loss and accuracy as a function of epochs on training and validation data (it's fine to use x_test and y_test as validation data for this assignment). To do so, you will need to add validation data to the call for ```model.fit```, and capture the results in a history object. Code for plotting is provided for you, you can pass your history object to this. You can find additional example code [here](https://www.tensorflow.org/tutorials/keras/text_classification).\n",
    "\n",
    "![Plot of loss](https://storage.googleapis.com/applied-dl/a1-1.png)"
   ]
  },
  {
   "cell_type": "code",
   "execution_count": 5,
   "metadata": {
    "colab": {
     "base_uri": "https://localhost:8080/",
     "height": 930
    },
    "id": "xGFjRexynN11",
    "outputId": "ea66ee4f-eb66-400a-8a04-e930c3991088"
   },
   "outputs": [
    {
     "name": "stdout",
     "output_type": "stream",
     "text": [
      "Epoch 1/10\n",
      "1875/1875 [==============================] - 4s 2ms/step - loss: 0.4668 - accuracy: 0.8791 - val_loss: 0.3060 - val_accuracy: 0.9152\n",
      "Epoch 2/10\n",
      "1875/1875 [==============================] - 4s 2ms/step - loss: 0.3035 - accuracy: 0.9153 - val_loss: 0.2813 - val_accuracy: 0.9206\n",
      "Epoch 3/10\n",
      "1875/1875 [==============================] - 4s 2ms/step - loss: 0.2832 - accuracy: 0.9212 - val_loss: 0.2721 - val_accuracy: 0.9241\n",
      "Epoch 4/10\n",
      "1875/1875 [==============================] - 4s 2ms/step - loss: 0.2729 - accuracy: 0.9246 - val_loss: 0.2669 - val_accuracy: 0.9253\n",
      "Epoch 5/10\n",
      "1875/1875 [==============================] - 4s 2ms/step - loss: 0.2663 - accuracy: 0.9265 - val_loss: 0.2678 - val_accuracy: 0.9255\n",
      "Epoch 6/10\n",
      "1875/1875 [==============================] - 4s 2ms/step - loss: 0.2617 - accuracy: 0.9269 - val_loss: 0.2661 - val_accuracy: 0.9251\n",
      "Epoch 7/10\n",
      "1875/1875 [==============================] - 4s 2ms/step - loss: 0.2580 - accuracy: 0.9287 - val_loss: 0.2626 - val_accuracy: 0.9284\n",
      "Epoch 8/10\n",
      "1875/1875 [==============================] - 4s 2ms/step - loss: 0.2555 - accuracy: 0.9297 - val_loss: 0.2638 - val_accuracy: 0.9274\n",
      "Epoch 9/10\n",
      "1875/1875 [==============================] - 4s 2ms/step - loss: 0.2526 - accuracy: 0.9297 - val_loss: 0.2632 - val_accuracy: 0.9269\n",
      "Epoch 10/10\n",
      "1875/1875 [==============================] - 4s 2ms/step - loss: 0.2509 - accuracy: 0.9308 - val_loss: 0.2670 - val_accuracy: 0.9267\n"
     ]
    },
    {
     "data": {
      "image/png": "[encoded data removed]",
      "text/plain": [
       "<Figure size 432x288 with 1 Axes>"
      ]
     },
     "metadata": {
      "needs_background": "light"
     },
     "output_type": "display_data"
    },
    {
     "data": {
      "image/png": "[encoded data removed]",
      "text/plain": [
       "<Figure size 432x288 with 1 Axes>"
      ]
     },
     "metadata": {
      "needs_background": "light"
     },
     "output_type": "display_data"
    }
   ],
   "source": [
    "model = tf.keras.models.Sequential([\n",
    "  tf.keras.layers.Flatten(input_shape=(28, 28)),\n",
    "  tf.keras.layers.Dense(10, activation='softmax')\n",
    "])\n",
    "\n",
    "model.compile(optimizer='adam',\n",
    "              loss='sparse_categorical_crossentropy',\n",
    "              metrics=['accuracy'])\n",
    "\n",
    "\n",
    "# CREATE HISTORY OBJECT TO STORE TRAINING RESULTS\n",
    "# ADD OTHER PARAM FOR VALIDATION DATA\n",
    "history = model.fit(x_train, y_train, epochs=10, validation_data = [x_test, y_test])\n",
    "history_dict = history.history\n",
    "# model.fit(x_train, y_train, epochs=10, validation_data = [x_val, y_val])\n",
    "\n",
    "# PLOTTING FUNCTION\n",
    "def plot(history):\n",
    "  \n",
    "  # The history object contains results on the training and test\n",
    "  # sets for each epoch\n",
    "  acc = history.history['accuracy']\n",
    "  val_acc = history.history['val_accuracy']\n",
    "  loss = history.history['loss']\n",
    "  val_loss = history.history['val_loss']\n",
    "\n",
    "  # Get the number of epochs\n",
    "  epochs = range(len(acc))\n",
    "\n",
    "  plt.title('Training and validation accuracy')\n",
    "  plt.plot(epochs, acc, color='blue', label='Train')\n",
    "  plt.plot(epochs, val_acc, color='orange', label='Val')\n",
    "  plt.xlabel('Epoch')\n",
    "  plt.ylabel('Accuracy')\n",
    "  plt.legend()\n",
    "\n",
    "  _ = plt.figure()\n",
    "  plt.title('Training and validation loss')\n",
    "  plt.plot(epochs, loss, color='blue', label='Train')\n",
    "  plt.plot(epochs, val_loss, color='orange', label='Val')\n",
    "  plt.xlabel('Epoch')\n",
    "  plt.ylabel('Loss')\n",
    "  plt.legend()\n",
    "\n",
    "# VISUALIZE MODEL PERFORMANCE\n",
    "plot(history)"
   ]
  },
  {
   "cell_type": "markdown",
   "metadata": {
    "id": "4EhrKNT8wfgD"
   },
   "source": [
    "### 1b: Implement a neural network \n",
    "\n",
    "**TODO**\n",
    "\n",
    "Modify the code below to create a neural network (with a single hidden layer). Add a Dense layer with 128 units and ReLU activation. Train and evaluate your model. It is not necessary to produce plots for this section."
   ]
  },
  {
   "cell_type": "code",
   "execution_count": 6,
   "metadata": {
    "colab": {
     "base_uri": "https://localhost:8080/"
    },
    "id": "FYUgpSwPq-HF",
    "outputId": "9710d0a6-7786-4e03-aa43-912929c1e3b9"
   },
   "outputs": [
    {
     "name": "stdout",
     "output_type": "stream",
     "text": [
      "Epoch 1/5\n",
      "1875/1875 [==============================] - 5s 3ms/step - loss: 0.2567 - accuracy: 0.9272\n",
      "Epoch 2/5\n",
      "1875/1875 [==============================] - 5s 3ms/step - loss: 0.1117 - accuracy: 0.9672\n",
      "Epoch 3/5\n",
      "1875/1875 [==============================] - 5s 3ms/step - loss: 0.0764 - accuracy: 0.9770\n",
      "Epoch 4/5\n",
      "1875/1875 [==============================] - 5s 3ms/step - loss: 0.0567 - accuracy: 0.9825\n",
      "Epoch 5/5\n",
      "1875/1875 [==============================] - 5s 3ms/step - loss: 0.0432 - accuracy: 0.9861\n",
      "313/313 [==============================] - 1s 2ms/step - loss: 0.0849 - accuracy: 0.9740\n"
     ]
    },
    {
     "data": {
      "text/plain": [
       "[0.08494903892278671, 0.9739999771118164]"
      ]
     },
     "execution_count": 6,
     "metadata": {},
     "output_type": "execute_result"
    }
   ],
   "source": [
    "model = tf.keras.models.Sequential([\n",
    "  tf.keras.layers.Flatten(input_shape=(28, 28)),\n",
    "  tf.keras.layers.Dense(128, activation = 'relu'),\n",
    "  tf.keras.layers.Dense(10, activation='softmax') #10 CLASSES\n",
    "])\n",
    "\n",
    "model.compile(optimizer='adam',\n",
    "              loss='sparse_categorical_crossentropy',\n",
    "              metrics=['accuracy'])\n",
    "\n",
    "model.fit(x_train, y_train, epochs=5)\n",
    "model.evaluate(x_test, y_test)"
   ]
  },
  {
   "cell_type": "markdown",
   "metadata": {
    "id": "V18pDvPzwh6l"
   },
   "source": [
    "### 1c: Implement a deep neural network \n",
    "\n",
    "**TODO**\n",
    "\n",
    "Modify the code below to create and train a deep neural network with at least two hidden layers."
   ]
  },
  {
   "cell_type": "code",
   "execution_count": 7,
   "metadata": {
    "colab": {
     "base_uri": "https://localhost:8080/"
    },
    "id": "K0odgGhmrNNh",
    "outputId": "a10ba265-992c-4a43-bfe6-47e924ec025c"
   },
   "outputs": [
    {
     "name": "stdout",
     "output_type": "stream",
     "text": [
      "Epoch 1/5\n",
      "1875/1875 [==============================] - 6s 3ms/step - loss: 0.2262 - accuracy: 0.9334\n",
      "Epoch 2/5\n",
      "1875/1875 [==============================] - 6s 3ms/step - loss: 0.0964 - accuracy: 0.9710\n",
      "Epoch 3/5\n",
      "1875/1875 [==============================] - 6s 3ms/step - loss: 0.0674 - accuracy: 0.9792\n",
      "Epoch 4/5\n",
      "1875/1875 [==============================] - 6s 3ms/step - loss: 0.0503 - accuracy: 0.9837\n",
      "Epoch 5/5\n",
      "1875/1875 [==============================] - 8s 4ms/step - loss: 0.0402 - accuracy: 0.9867\n",
      "313/313 [==============================] - 1s 2ms/step - loss: 0.0855 - accuracy: 0.9746\n"
     ]
    },
    {
     "data": {
      "text/plain": [
       "[0.08547195792198181, 0.9746000170707703]"
      ]
     },
     "execution_count": 7,
     "metadata": {},
     "output_type": "execute_result"
    }
   ],
   "source": [
    "model = tf.keras.models.Sequential([\n",
    "  tf.keras.layers.Flatten(input_shape=(28, 28)),\n",
    "  tf.keras.layers.Dense(128, activation = 'relu'),\n",
    "  tf.keras.layers.Dense(64, activation = 'relu'),\n",
    "  tf.keras.layers.Dense(10, activation='softmax')\n",
    "])\n",
    "\n",
    "model.compile(optimizer='adam',\n",
    "              loss='sparse_categorical_crossentropy',\n",
    "              metrics=['accuracy'])\n",
    "\n",
    "model.fit(x_train, y_train, epochs=5)\n",
    "model.evaluate(x_test, y_test)"
   ]
  },
  {
   "cell_type": "markdown",
   "metadata": {
    "id": "NkmnVGG-wnyw"
   },
   "source": [
    "### 1d: Display predictions and their confidence \n",
    "\n",
    "**TODO**\n",
    "\n",
    "1. Choose one of your models above. Use it to make predictions on the entire test set using ```model.predict```\n",
    "\n",
    "2. Next, identify one image from the testing set the model classifies correctly, and another that it classifies incorrectly. Add code to display both of these images below, the correct labels for them, the predicted labels, and the confidence scores."
   ]
  },
  {
   "cell_type": "code",
   "execution_count": 8,
   "metadata": {
    "colab": {
     "base_uri": "https://localhost:8080/"
    },
    "id": "BPd5NvaV1XEx",
    "outputId": "64016a75-07d6-4ec1-da36-27532ab53b73"
   },
   "outputs": [
    {
     "name": "stdout",
     "output_type": "stream",
     "text": [
      "Epoch 1/5\n",
      "1875/1875 [==============================] - 6s 3ms/step - loss: 0.2555 - accuracy: 0.9266\n",
      "Epoch 2/5\n",
      "1875/1875 [==============================] - 6s 3ms/step - loss: 0.1169 - accuracy: 0.9653\n",
      "Epoch 3/5\n",
      "1875/1875 [==============================] - 6s 3ms/step - loss: 0.0794 - accuracy: 0.9762\n",
      "Epoch 4/5\n",
      "1875/1875 [==============================] - 5s 3ms/step - loss: 0.0589 - accuracy: 0.9822\n",
      "Epoch 5/5\n",
      "1875/1875 [==============================] - 5s 3ms/step - loss: 0.0471 - accuracy: 0.9860\n"
     ]
    },
    {
     "data": {
      "text/plain": [
       "<keras.callbacks.History at 0x7fce02e7e190>"
      ]
     },
     "execution_count": 8,
     "metadata": {},
     "output_type": "execute_result"
    }
   ],
   "source": [
    "#CHOOSING 1 LAYER - \n",
    "#BY LAST EPOCH LOSS AND ACCURACY WEREN'T SUPER DIFFERENT\n",
    "#GIVEN THAT CLOSENESS OF PERFORMANCE AND ADDED COST OF EXTRA LAYER, GOING 1 DEEP\n",
    "\n",
    "#REDEFINE MODEL SINCE LATEST WAS 2 LAYERS\n",
    "model = tf.keras.models.Sequential([\n",
    "  tf.keras.layers.Flatten(input_shape=(28, 28)),\n",
    "  tf.keras.layers.Dense(128, activation = 'relu'),\n",
    "  tf.keras.layers.Dense(10, activation='softmax')\n",
    "])\n",
    "\n",
    "model.compile(optimizer='adam',\n",
    "              loss='sparse_categorical_crossentropy',\n",
    "              metrics=['accuracy'])\n",
    "\n",
    "model.fit(x_train, y_train, epochs=5)"
   ]
  },
  {
   "cell_type": "code",
   "execution_count": 9,
   "metadata": {
    "colab": {
     "base_uri": "https://localhost:8080/",
     "height": 279
    },
    "id": "xANuaQkqBkZj",
    "outputId": "89ee440e-a2f0-4042-9838-68c40238af46"
   },
   "outputs": [
    {
     "name": "stdout",
     "output_type": "stream",
     "text": [
      "0.66\n"
     ]
    },
    {
     "data": {
      "image/png": "[encoded data removed]",
      "text/plain": [
       "<Figure size 432x288 with 2 Axes>"
      ]
     },
     "metadata": {
      "needs_background": "light"
     },
     "output_type": "display_data"
    }
   ],
   "source": [
    "#NEW CELL FOR PART 2 - VISUALIZING A CORRECT AND INCORRECT EXAMPLE\n",
    "# Next, identify one image from the testing set the model classifies correctly, \n",
    "# and another that it classifies incorrectly. \n",
    "# Add code to display both of these images below, \n",
    "# the correct labels for them, the predicted labels, and the confidence scores.\n",
    "import numpy as np\n",
    "preds = model.predict(x_test)\n",
    "outcomes = [(np.argmax(x), np.max(x)) for x in preds]\n",
    "\n",
    "correct_preds = []\n",
    "incorrect_preds = []\n",
    "for i, outcome in enumerate(outcomes):\n",
    "  if outcome[0] == y_test[i]:\n",
    "    correct_preds.append(i)\n",
    "  else:\n",
    "    incorrect_preds.append(i)\n",
    "\n",
    "correct_index = correct_preds[0]\n",
    "incorrect_index = incorrect_preds[0]\n",
    "\n",
    "correct_pred = outcomes[correct_index][0]\n",
    "incorrect_pred = outcomes[incorrect_index][0]\n",
    "\n",
    "correct_prob = round(outcomes[correct_index][1], 2)\n",
    "incorrect_prob = round(outcomes[incorrect_index][1], 2)\n",
    "print(incorrect_prob)\n",
    "\n",
    "correct_actual = y_test[correct_index]\n",
    "incorrect_actual = y_test[incorrect_index]\n",
    "\n",
    "correct_image = x_test[correct_index]\n",
    "incorrect_image = x_test[incorrect_index]\n",
    "\n",
    "correct_image *= 255 #UNSCALE FOR GETTING IMAGE\n",
    "incorrect_image *= 255\n",
    "\n",
    "f, axarr = plt.subplots(1,2)\n",
    "axarr[0].imshow(correct_image, cmap = plt.cm.binary)\n",
    "axarr[0].title.set_text(\"Correctly Predicted Image\\n Should be: {0}\\n Was predicted: {1}\\n With probability: {2}\".format(correct_actual, correct_pred, correct_prob))\n",
    "axarr[1].imshow(incorrect_image, cmap = plt.cm.binary)\n",
    "axarr[1].title.set_text(\"Incorrectly Predicted Image\\n Should be: {0}\\n Was predicted: {1}\\n With probability: {2}\".format(incorrect_actual, incorrect_pred, incorrect_prob))"
   ]
  },
  {
   "cell_type": "markdown",
   "metadata": {
    "id": "ca0nFGJdv3H2"
   },
   "source": [
    "## Part 2: Subclassed models\n",
    "\n",
    "In this part of the assignment, you'll work with the Keras Subclassing API. Instead of using a built-in method (```model.fit```) you will train models using a GradientTape.\n",
    "\n",
    "Here are a few code examples that will help you with this part of the assignment:\n",
    "\n",
    "* [Get started for experts](https://www.tensorflow.org/tutorials/quickstart/advanced)\n",
    "* [TensorFlow basics](https://www.tensorflow.org/guide/basics)\n",
    "* [Keras overview](https://www.tensorflow.org/guide/keras/overview)\n",
    "* [Writing custom models](https://www.tensorflow.org/guide/keras/custom_layers_and_models)"
   ]
  },
  {
   "cell_type": "markdown",
   "metadata": {
    "id": "xB6r75B5teHv"
   },
   "source": [
    "### Download and prepare a dataset\n",
    "This is similar to the above, except now we'll use ```tf.data``` to batch and shuffle the data, instead of the utilities baked into ```model.fit```. It's not necessary for this assignment, but if you wish, you can learn how to use tf.data [here](https://www.tensorflow.org/guide/data)."
   ]
  },
  {
   "cell_type": "code",
   "execution_count": 10,
   "metadata": {
    "id": "kYbkeJJqtm0h"
   },
   "outputs": [],
   "source": [
    "# Download a dataset\n",
    "(x_train, y_train), (x_test, y_test) = tf.keras.datasets.mnist.load_data()\n",
    "\n",
    "# Batch and shuffle the data\n",
    "train_ds = tf.data.Dataset.from_tensor_slices(\n",
    "    (x_train.astype('float32') / 255, y_train)).shuffle(1024).batch(32)\n",
    "\n",
    "test_ds = tf.data.Dataset.from_tensor_slices(\n",
    "    (x_test.astype('float32') / 255, y_test)).batch(32)"
   ]
  },
  {
   "cell_type": "code",
   "execution_count": 11,
   "metadata": {
    "colab": {
     "base_uri": "https://localhost:8080/",
     "height": 283
    },
    "id": "_JlSs-3qvCgi",
    "outputId": "b1149b0d-e643-43dd-8d07-d76b4e3cbc06"
   },
   "outputs": [
    {
     "name": "stdout",
     "output_type": "stream",
     "text": [
      "tf.Tensor(6, shape=(), dtype=uint8)\n"
     ]
    },
    {
     "data": {
      "image/png": "[encoded data removed]",
      "text/plain": [
       "<Figure size 432x288 with 1 Axes>"
      ]
     },
     "metadata": {
      "needs_background": "light"
     },
     "output_type": "display_data"
    }
   ],
   "source": [
    "# A quick example of iterating over a dataset object\n",
    "for image, label in train_ds.take(1):\n",
    "  plt.imshow(image[0], plt.get_cmap('gray'))\n",
    "  print(label[0])"
   ]
  },
  {
   "cell_type": "markdown",
   "metadata": {
    "id": "0Nmw1h6stTg5"
   },
   "source": [
    "### Define and train a linear model"
   ]
  },
  {
   "cell_type": "code",
   "execution_count": 12,
   "metadata": {
    "id": "BWGJoufMtbHA"
   },
   "outputs": [],
   "source": [
    "# SUPER SIMPLE MODEL\n",
    "class MyLinearModel(Model):\n",
    "  def __init__(self):\n",
    "    super(MyLinearModel, self).__init__()\n",
    "    self.flatten = Flatten()\n",
    "    self.d1 = Dense(10, activation='softmax', name=\"dense1\")\n",
    "\n",
    "  def call(self, x):\n",
    "    x = self.flatten(x)\n",
    "    return self.d1(x)"
   ]
  },
  {
   "cell_type": "code",
   "execution_count": 13,
   "metadata": {
    "colab": {
     "base_uri": "https://localhost:8080/"
    },
    "id": "35tIz37EttdP",
    "outputId": "69f1684c-c47c-4b2d-f655-d730d444af7a"
   },
   "outputs": [
    {
     "name": "stdout",
     "output_type": "stream",
     "text": [
      "Epoch 0, Test loss: 0.47816887497901917\n",
      "Epoch 1, Test loss: 0.39916345477104187\n",
      "Epoch 2, Test loss: 0.36662888526916504\n",
      "Epoch 3, Test loss: 0.3475800156593323\n",
      "Epoch 4, Test loss: 0.3351147770881653\n"
     ]
    }
   ],
   "source": [
    "model = MyLinearModel()\n",
    "\n",
    "loss_fn = tf.keras.losses.SparseCategoricalCrossentropy()\n",
    "optimizer = tf.keras.optimizers.SGD()\n",
    "\n",
    "# For each epoch\n",
    "for epoch in range(5):\n",
    "\n",
    "  # For each batch of images and labels\n",
    "  for images, labels in train_ds:\n",
    "\n",
    "    # Open a GradientTape.\n",
    "    with tf.GradientTape() as tape:\n",
    "\n",
    "      # Forward pass\n",
    "      predictions = model(images)\n",
    "      # Calculate loss\n",
    "      loss = loss_fn(labels, predictions)\n",
    "      \n",
    "    # Backprop to calculate gradients\n",
    "    gradients = tape.gradient(loss, model.trainable_variables)\n",
    "\n",
    "    # Gradient descent step\n",
    "    optimizer.apply_gradients(zip(gradients, model.trainable_variables))\n",
    "\n",
    "  # Calculate loss on the test data\n",
    "  test_loss = []\n",
    "  for images, labels in test_ds: \n",
    "    predictions = model(images)\n",
    "    loss_on_batch = loss_fn(labels, predictions)\n",
    "    test_loss.append(loss_on_batch)\n",
    "    \n",
    "  print(\"Epoch {}, Test loss: {}\".format(epoch, tf.reduce_mean(test_loss)))"
   ]
  },
  {
   "cell_type": "markdown",
   "metadata": {
    "id": "mEO51Mvi1jOT"
   },
   "source": [
    "Note: you may have noticed that the above code runs slowly (it's executing eagerly). Later in this notebook, you will compile your code (to run it in graph mode) using ```@tf.function```. The general workflow is to write your code without using tf.function (as shown above, which makes for easier debugging). Once you've finished debugging your model, you can add ```@tf.function``` for performance if necessary."
   ]
  },
  {
   "cell_type": "markdown",
   "metadata": {
    "id": "dj7Y8JWgwv9Z"
   },
   "source": [
    "### 2a: Visualize the learned weights\n",
    "\n",
    "We can interpret a linear model by looking at the weights of the fully connected layer. Modify the below code to create a plot similar to this one from lecture 1:\n",
    "\n",
    "![Plot of weights](https://storage.googleapis.com/applied-dl/a1-2.png)\n",
    "\n",
    "**TODO**\n",
    "\n",
    "Modify the below code to retrieve the learned weights. You can use either the public API of a model ```model.get_layer(name)``` then retrieve the weights from that, or (because our model is defined using the Subclassing API), you can access the dense layer directly ```model.d1```."
   ]
  },
  {
   "cell_type": "code",
   "execution_count": 14,
   "metadata": {
    "colab": {
     "base_uri": "https://localhost:8080/"
    },
    "id": "JiQZV03RuWHM",
    "outputId": "9e88667c-a84f-42dd-a709-cd2636ac64ba"
   },
   "outputs": [
    {
     "name": "stdout",
     "output_type": "stream",
     "text": [
      "(784, 10)\n"
     ]
    }
   ],
   "source": [
    "# GET WEIGHTS FROM OUR ONE DENSE LAYER\n",
    "weights, bias = model.d1.weights\n",
    "print(weights.shape)"
   ]
  },
  {
   "cell_type": "code",
   "execution_count": 15,
   "metadata": {
    "colab": {
     "base_uri": "https://localhost:8080/",
     "height": 141
    },
    "id": "oz3VV2EiuY7X",
    "outputId": "5602d5d9-7506-4f66-da3c-e9f3e772c3f5"
   },
   "outputs": [
    {
     "data": {
      "image/png": "[encoded data removed]",
      "text/plain": [
       "<Figure size 1440x1440 with 10 Axes>"
      ]
     },
     "metadata": {
      "needs_background": "light"
     },
     "output_type": "display_data"
    }
   ],
   "source": [
    "# AND VISUALIZE THEM\n",
    "fig, axs = plt.subplots(1,10, figsize=(20,20))\n",
    "for i in range(10):\n",
    "  subplot = axs[i]\n",
    "  subplot.set_title(i)\n",
    "  subplot.axis('off')\n",
    "  i_weights = [x[i] for x in weights] \n",
    "  img = tf.reshape(i_weights, (28, 28)) \n",
    "  subplot.imshow(img, plt.get_cmap('seismic'))\n",
    "plt.show()"
   ]
  },
  {
   "cell_type": "markdown",
   "metadata": {
    "id": "HNBCIqzdw2GS"
   },
   "source": [
    "### 2b: Implement a deep neural network\n",
    "\n",
    "**TODO**\n",
    "\n",
    "Modify this code to create a deep neural network. Train your model using the code below, and compare the accuracy to the linear model above. \n",
    "\n",
    "Note: you do not need to modify any sections other than the model definition and the call method. \n",
    "\n",
    "The code below uses compiled versions of the training and evaluation loops (remove the ```@tf.function``` annotations if you need to debug)."
   ]
  },
  {
   "cell_type": "code",
   "execution_count": 16,
   "metadata": {
    "id": "rxoIfq91xDRZ"
   },
   "outputs": [],
   "source": [
    "# NEW DNN (ADDED HIDDEN LAYER)\n",
    "class MyDNN(Model):\n",
    "  def __init__(self):\n",
    "    super(MyDNN, self).__init__()\n",
    "    self.flatten = Flatten()\n",
    "    # Modify me\n",
    "    self.d1 = Dense(16, activation='relu')\n",
    "    self.d2 = Dense(10, activation='softmax')\n",
    "\n",
    "  def call(self, x):\n",
    "    x = self.flatten(x)\n",
    "    x = self.d1(x)\n",
    "    return self.d2(x)\n",
    "\n",
    "model = MyDNN()"
   ]
  },
  {
   "cell_type": "code",
   "execution_count": 17,
   "metadata": {
    "id": "hVDDq2orxPBR"
   },
   "outputs": [],
   "source": [
    "loss_object = tf.keras.losses.SparseCategoricalCrossentropy()\n",
    "optimizer = tf.keras.optimizers.Adam()"
   ]
  },
  {
   "cell_type": "markdown",
   "metadata": {
    "id": "WNC0K6JPxy-g"
   },
   "source": [
    "These are helper functions we'll use to record loss and accuracy while your model is trained."
   ]
  },
  {
   "cell_type": "code",
   "execution_count": 18,
   "metadata": {
    "id": "duYKrACkxRHw"
   },
   "outputs": [],
   "source": [
    "train_loss = tf.keras.metrics.Mean(name='train_loss')\n",
    "train_accuracy = tf.keras.metrics.SparseCategoricalAccuracy(name='train_accuracy')\n",
    "\n",
    "test_loss = tf.keras.metrics.Mean(name='test_loss')\n",
    "test_accuracy = tf.keras.metrics.SparseCategoricalAccuracy(name='test_accuracy')"
   ]
  },
  {
   "cell_type": "markdown",
   "metadata": {
    "id": "C_oUQki5x0lD"
   },
   "source": [
    "This method trains the model on a batch of data."
   ]
  },
  {
   "cell_type": "code",
   "execution_count": 19,
   "metadata": {
    "id": "yTQAnrOAxUAu"
   },
   "outputs": [],
   "source": [
    "@tf.function\n",
    "def train_step(images, labels):\n",
    "  with tf.GradientTape() as tape:\n",
    "    predictions = model(images)\n",
    "    loss = loss_object(labels, predictions)\n",
    "  gradients = tape.gradient(loss, model.trainable_variables)\n",
    "  optimizer.apply_gradients(zip(gradients, model.trainable_variables))\n",
    "\n",
    "  train_loss(loss)\n",
    "  train_accuracy(labels, predictions)"
   ]
  },
  {
   "cell_type": "markdown",
   "metadata": {
    "id": "-lUJFkfux44o"
   },
   "source": [
    "This method evaluates the model on a batch of data."
   ]
  },
  {
   "cell_type": "code",
   "execution_count": 20,
   "metadata": {
    "id": "BTMp9PwZxV5h"
   },
   "outputs": [],
   "source": [
    "@tf.function\n",
    "def test_step(images, labels):\n",
    "  predictions = model(images)\n",
    "  t_loss = loss_object(labels, predictions)\n",
    "\n",
    "  test_loss(t_loss)\n",
    "  test_accuracy(labels, predictions)"
   ]
  },
  {
   "cell_type": "markdown",
   "metadata": {
    "id": "AR0_bNd-x6OE"
   },
   "source": [
    "Training and evaluation loop."
   ]
  },
  {
   "cell_type": "code",
   "execution_count": 21,
   "metadata": {
    "colab": {
     "base_uri": "https://localhost:8080/"
    },
    "id": "0StrDn3bJ37V",
    "outputId": "4ca20d2a-d0c9-4a1d-c64a-fe104f64088b"
   },
   "outputs": [
    {
     "name": "stdout",
     "output_type": "stream",
     "text": [
      "Epoch 1, Loss: 1.7590365409851074, Accuracy: 48.48500061035156, Test Loss: 1.2433587312698364, Test Accuracy: 52.4900016784668\n",
      "Epoch 2, Loss: 1.1292520761489868, Accuracy: 52.619998931884766, Test Loss: 1.0528744459152222, Test Accuracy: 53.570003509521484\n",
      "Epoch 3, Loss: 1.0253769159317017, Accuracy: 55.801666259765625, Test Loss: 0.9905306696891785, Test Accuracy: 58.040000915527344\n",
      "Epoch 4, Loss: 0.9249110817909241, Accuracy: 63.74166488647461, Test Loss: 0.8372895121574402, Test Accuracy: 67.33999633789062\n",
      "Epoch 5, Loss: 0.7895042896270752, Accuracy: 72.7750015258789, Test Loss: 0.7388616800308228, Test Accuracy: 79.18999481201172\n"
     ]
    }
   ],
   "source": [
    "EPOCHS = 5\n",
    "\n",
    "for epoch in range(EPOCHS):\n",
    "  for images, labels in train_ds:\n",
    "    train_step(images, labels)\n",
    "\n",
    "  for test_images, test_labels in test_ds:\n",
    "    test_step(test_images, test_labels)\n",
    "\n",
    "  template = 'Epoch {}, Loss: {}, Accuracy: {}, Test Loss: {}, Test Accuracy: {}'\n",
    "  print(template.format(epoch+1,\n",
    "                        train_loss.result(),\n",
    "                        train_accuracy.result()*100,\n",
    "                        test_loss.result(),\n",
    "                        test_accuracy.result()*100))\n",
    "\n",
    "  # Reset the metrics for the next epoch\n",
    "  train_loss.reset_states()\n",
    "  train_accuracy.reset_states()\n",
    "  test_loss.reset_states()\n",
    "  test_accuracy.reset_states()"
   ]
  },
  {
   "cell_type": "markdown",
   "metadata": {
    "id": "ZxjIFiyBPorB"
   },
   "source": [
    "### 2c: Provide your own implementation of softmax and use it to train a model\n",
    "\n",
    "In your linear model above, the starter code looked similar to: \n",
    "\n",
    "\n",
    "```\n",
    "class LinearModel(Model):\n",
    "  def __init__(self):\n",
    "    super(LinearModel, self).__init__()\n",
    "    self.flatten = Flatten()\n",
    "    self.d1 = Dense(10, activation='softmax')\n",
    "\n",
    "  def call(self, x):\n",
    "    x = self.flatten(x)\n",
    "    return self.d1(x)\n",
    "``` \n",
    "\n",
    "Now, create a function:\n",
    "\n",
    "\n",
    "```\n",
    "def my_softmax(logits):\n",
    "  # ...\n",
    "```\n",
    "\n",
    "and use it in your model as follows:\n",
    "\n",
    "\n",
    "```\n",
    "class LinearModel(Model):\n",
    "  def __init__(self):\n",
    "    super(LinearModel, self).__init__()\n",
    "    self.flatten = Flatten()\n",
    "    self.d1 = Dense(10)\n",
    "\n",
    "  def call(self, x):\n",
    "    x = self.flatten(x)\n",
    "    x = self.d1(x)\n",
    "    return my_softmax(x)\n",
    "``` \n",
    "\n",
    "Notice, we've removed the built-in activation method on the Dense layer, and added our own to the call method.\n",
    "\n",
    "Tip: You can implement softmax first using NumPy, if you like, the gradually convert your code to use TensorFlow ops (which begin with tf.\\* instead of np.\\*).\n",
    "\n",
    "Notes: \n",
    "\n",
    "- Your softmax implementation should be numerically stable. \n",
    "- You will need to use tf.* ops in order to use your code to train a model (TF cannot backprop through NumPy operations)."
   ]
  },
  {
   "cell_type": "code",
   "execution_count": 22,
   "metadata": {
    "colab": {
     "base_uri": "https://localhost:8080/"
    },
    "id": "SiLj-uFrRAn-",
    "outputId": "ff5afb25-646e-4526-fa01-18f2221499c8"
   },
   "outputs": [
    {
     "name": "stderr",
     "output_type": "stream",
     "text": [
      "WARNING:tensorflow:The dtype of the watched tensor must be floating (e.g. tf.float32), got tf.uint8\n",
      "WARNING:tensorflow:The dtype of the watched tensor must be floating (e.g. tf.float32), got tf.uint8\n",
      "WARNING:tensorflow:The dtype of the watched tensor must be floating (e.g. tf.float32), got tf.uint8\n",
      "WARNING:tensorflow:The dtype of the watched tensor must be floating (e.g. tf.float32), got tf.uint8\n",
      "WARNING:tensorflow:The dtype of the watched tensor must be floating (e.g. tf.float32), got tf.uint8\n"
     ]
    },
    {
     "name": "stdout",
     "output_type": "stream",
     "text": [
      "Epoch 0, Test loss: 0.4775351583957672\n",
      "Epoch 1, Test loss: 0.39838728308677673\n",
      "Epoch 2, Test loss: 0.3656986355781555\n",
      "Epoch 3, Test loss: 0.3472108840942383\n",
      "Epoch 4, Test loss: 0.33496788144111633\n"
     ]
    }
   ],
   "source": [
    "def my_softmax(x):  \n",
    "# USE TENSORFLOW FUNCTIONS FOR DEFINING OWN SOFTMAX\n",
    "  out = tf.exp(x) / tf.reduce_sum(tf.exp(x), axis = -1, keepdims=True)\n",
    "  return out\n",
    "\n",
    "class MyModel(Model):\n",
    "  def __init__(self):\n",
    "    super(MyModel, self).__init__()\n",
    "    self.flatten = Flatten()\n",
    "    self.d1 = Dense(10)\n",
    "\n",
    "  def call(self, x):\n",
    "    x = self.flatten(x)\n",
    "    x = self.d1(x)\n",
    "    return my_softmax(x) #AND IMPLEMENT\n",
    "  \n",
    "model = MyModel()\n",
    "\n",
    "\n",
    "\n",
    "# TRAIN MODEL\n",
    "loss_fn = tf.keras.losses.SparseCategoricalCrossentropy()\n",
    "optimizer = tf.keras.optimizers.SGD()\n",
    "\n",
    "# For each epoch\n",
    "for epoch in range(5):\n",
    "\n",
    "  # For each batch of images and labels\n",
    "  for images, labels in train_ds:\n",
    "\n",
    "    # Open a GradientTape.\n",
    "    with tf.GradientTape() as tape:\n",
    "      tape.watch(labels)\n",
    "      # Forward pass\n",
    "      predictions = model(images)\n",
    "      \n",
    "      # Calculate loss\n",
    "      loss = loss_fn(labels, predictions)\n",
    "      \n",
    "    # Backprop to calculate gradients\n",
    "    gradients = tape.gradient(loss, model.trainable_variables)\n",
    "    # print(gradients)\n",
    "    \n",
    "    # # Gradient descent step\n",
    "    optimizer.apply_gradients(zip(gradients, model.trainable_variables))\n",
    "\n",
    "  # Calculate loss on the test data\n",
    "  test_loss = []\n",
    "  for images, labels in test_ds: \n",
    "    predictions = model(images)\n",
    "    loss_on_batch = loss_fn(labels, predictions)\n",
    "    test_loss.append(loss_on_batch)\n",
    "    \n",
    "  print(\"Epoch {}, Test loss: {}\".format(epoch, tf.reduce_mean(test_loss)))\n"
   ]
  }
 ],
 "metadata": {
  "accelerator": "GPU",
  "colab": {
   "collapsed_sections": [],
   "provenance": []
  },
  "kernelspec": {
   "display_name": "Python 3 (ipykernel)",
   "language": "python",
   "name": "python3"
  },
  "language_info": {
   "codemirror_mode": {
    "name": "ipython",
    "version": 3
   },
   "file_extension": ".py",
   "mimetype": "text/x-python",
   "name": "python",
   "nbconvert_exporter": "python",
   "pygments_lexer": "ipython3",
   "version": "3.8.6"
  }
 },
 "nbformat": 4,
 "nbformat_minor": 1
}
