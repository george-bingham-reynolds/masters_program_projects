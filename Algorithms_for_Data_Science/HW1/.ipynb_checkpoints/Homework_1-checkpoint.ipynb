{
 "cells": [
  {
   "cell_type": "markdown",
   "metadata": {},
   "source": [
    "Below is the code and output from my first homework assignment from my Algorithms for Data Science course from my Master's in Data Science program from Columbia University (from the Fall semester of 2020). Please note that this notebook is not maintained, so it may not run correctly for someone else."
   ]
  },
  {
   "cell_type": "markdown",
   "metadata": {},
   "source": [
    "# Connected Components\n",
    "\n",
    "The purpose of this assignment is to familiarize yourself with the handling of graph data structures. You will implement depth-first search for identifying the connected components of an undirected graph, implementing procedure Search as a subroutine along the way.\n",
    "\n",
    "You will use the [NetworkX](https://networkx.github.io/) Python package to represent and manipulate graphs. You should first familiarize yourself with its functionality by going through the brief [tutorial](http://networkx.github.io/documentation/networkx-1.9.1/tutorial/index.html). For this homework, you may only use the basic undirected graph methods listed [here](http://networkx.github.io/documentation/networkx-1.9.1/reference/classes.graph.html).\n",
    "\n",
    "As a use case, we will work with a dataset recording the interactions between characters in Homer's *Iliad*."
   ]
  },
  {
   "cell_type": "code",
   "execution_count": 1,
   "metadata": {},
   "outputs": [],
   "source": [
    "# USE NETWORKX FOR GRAPHS, PULL IN DATA\n",
    "import networkx\n",
    "homer = open('homer.dat')"
   ]
  },
  {
   "cell_type": "markdown",
   "metadata": {},
   "source": [
    "The format of the data is straightforward. After some comment lines (beginning with \\*), the file lists a codename for each character (i.e., node of the graph), followed by a description. The file then lists the groups of characters that interact in each chapter, from which you will form the edges. For instance, the first line has the form:\n",
    "\n",
    "```1:CH,AG,ME,GS;AP,CH;HE,AC;AC,AG,CA;HE,AT;AT,AC;AT,OG;NE,AG,AC;CS,OD```\n",
    "\n",
    "This means that CH,AG,ME,GS interacted, so there are edges for all pairs of these nodes. Groups of characters that interacted are separated by semicolons. The lines start with chapter information of the form `1:` or `&:`, which can be ignored for this problem."
   ]
  },
  {
   "cell_type": "markdown",
   "metadata": {},
   "source": [
    "First implement a function to read in the nodes from the input file. You may implement any auxiliary functions as needed, and are encouraged to use small functions with specific purposes to keep your code readable. Any function you implement should be clearly commented."
   ]
  },
  {
   "cell_type": "markdown",
   "metadata": {},
   "source": [
    "Next implement a function to read in the edges from the input file."
   ]
  },
  {
   "cell_type": "code",
   "execution_count": 2,
   "metadata": {},
   "outputs": [],
   "source": [
    "def read_nodes(gfile):\n",
    "    \"\"\"Reads in the nodes of the graph from the input file.\n",
    "    \n",
    "    Args:\n",
    "        gfile: A handle for the file containing the graph data, starting at the top.\n",
    "        \n",
    "    Returns:\n",
    "        A list of the nodes in the graph of the form:\n",
    "            ['CH', 'AG, 'ME', ...]\n",
    "    \"\"\"\n",
    "    \n",
    "    # MAKE EMPTY LIST TO APPEND TO\n",
    "    nodes = []\n",
    "    \n",
    "\n",
    "    \n",
    "    # NEXT I WANT TO PULL THE FIRST TWO LETTERS FROM EACH LINE, \n",
    "    # EXCLUDING THOSE THAT BEGIN WITH *, &:, OR A NUMERIC THEN :\n",
    "    # INITIAL DATA EXPLORATION SHOWED THAT, CONVENIENTLY, CHAPTER LINES (I.E. THOSE BEGINNING WITH :) \n",
    "    # DON'T CONTAIN SPACES; THIS MEANS THAT ONCE SPLIT THEY HAVE LENGTHS OF 1, \n",
    "    # SO I WILL IGNORE OBJECTS OF LENGTH ONE OR THOSE WHOSE FIRST ITEM IS *\n",
    "    # ALSO USE SEEK SO THAT THE FILE CAN BE READ MULTIPLE TIMES\n",
    "    \n",
    "    gfile.seek(0)\n",
    "    for line in gfile:\n",
    "        split_item = line.split()\n",
    "        if len(split_item) > 1 and split_item[0] != '*':\n",
    "            nodes.append(split_item[0])\n",
    "    return nodes\n",
    "\n",
    "    pass"
   ]
  },
  {
   "cell_type": "code",
   "execution_count": 3,
   "metadata": {},
   "outputs": [],
   "source": [
    "def read_edges(gfile):\n",
    "    \"\"\"Reads in the edges of the graph from the input file.\n",
    "    \n",
    "    Args:\n",
    "        gfile: A handle for the file containing the graph data, starting at the top \n",
    "            of the edges section.\n",
    "            \n",
    "    Returns:\n",
    "        The edges in the graph as a list of pairs of the form:\n",
    "            [('CH', 'AG'), ('AG', 'ME'), ...]\n",
    "    \"\"\"\n",
    "    # TODO: implement function\n",
    "    \n",
    "    # RESET TO BEGINNING OF FILE AND MAKE EMPTY LISTS\n",
    "    \n",
    "    gfile.seek(0)\n",
    "    larry = gfile\n",
    "\n",
    "    groups = []\n",
    "    edges = []\n",
    "\n",
    "    # NEXT I ITERATE OVER EACH LINE, STRIPPING \\n AND SPLITTING AT SEMI-COLONS IN ORDER TO GET GROUPS ISOLATED\n",
    "    # IF A LINE DOESN'T CONTAIN A SEMI-COLON (I.E. IT IS OF LENGTH 0 AFTER SPLITTING) I ASSUME IT IS NOT RELEVANT HERE\n",
    "    # FOR THE FIRST GROUP IN EACH LINE, I USE ANOTHER SPLIT AT \":\" TO GET RID OF CHAPTER NOTATIONS\n",
    "    # I APPEND EACH GROUP TO MY GROUPS LIST\n",
    "    for line in larry:\n",
    "        line = line.strip()\n",
    "        split_item = line.split(';')\n",
    "        if len(split_item) > 1:\n",
    "            for i in range(len(split_item)):\n",
    "                if i == 0:\n",
    "                    groups.append(split_item[i].split(\":\")[1].split(','))\n",
    "                else:\n",
    "                    groups.append(split_item[i].split(','))\n",
    "\n",
    "    # WITHIN EACH GROUP I TAKE EACH CHARACTER AND MAKE A PAIRING WITH EACH CHARACTER ALSO IN THE GROUP\n",
    "    # I ONLY PAIR CHARACTERS WITH THOSE COMING AFTER IN ORDER TO AVOID DUPLICATES (UNDIRECTED GRAPH)\n",
    "    for group in groups:\n",
    "        for i in range(len(group)):\n",
    "            for j in range(i+1, len(group)):\n",
    "                if group[i] != group[j]:\n",
    "                    edge_larry = (group[i], group[j])\n",
    "                    edges.append(edge_larry)\n",
    "    return edges\n",
    "    pass"
   ]
  },
  {
   "cell_type": "markdown",
   "metadata": {},
   "source": [
    "The following code should now correctly create the graph."
   ]
  },
  {
   "cell_type": "code",
   "execution_count": 4,
   "metadata": {},
   "outputs": [],
   "source": [
    "import networkx as nx\n",
    "G = nx.Graph()\n",
    "G.add_nodes_from(read_nodes(homer))\n",
    "G.add_edges_from(read_edges(homer))"
   ]
  },
  {
   "cell_type": "markdown",
   "metadata": {},
   "source": [
    "Next implement procedure Search. The function takes in a graph and a root node, and returns a list of the nodes visited during the search. The nodes should appear in the order in which they were *first visited*. The neighbors of a node should be processed in *alphabetical order*, where numbers come before letters. This will ensure that the output of your function is uniquely defined, given any input node."
   ]
  },
  {
   "cell_type": "code",
   "execution_count": 5,
   "metadata": {},
   "outputs": [],
   "source": [
    "def Search(graph, root):\n",
    "    \"\"\"Runs Search from vertex root in a graph. Neighboring nodes are processed in alphabetical order.\n",
    "    \n",
    "    Args:\n",
    "        graph: the given graph, with nodes encoded as strings.\n",
    "        root: the node from which to start the search.\n",
    "        \n",
    "    Returns:\n",
    "        A list of nodes in the order in which they were first visited.\n",
    "    \"\"\"\n",
    "    # COPYING GRAPH\n",
    "    \n",
    "    graph = graph.copy()\n",
    "    \n",
    "    # DEFINING DFS-VISIT\n",
    "    \n",
    "    def dfs_visit(g, u, time):\n",
    "        mapped = [] #INITIALIZED W/NO NODES MAPPED\n",
    "        \n",
    "        time += 1 #INCREMENT TIME BY 1 EACH TIME SEARCH IS RUN\n",
    "        g.nodes[u]['start'] = time #ROOT REPS NEXT NODE CONSIDERED, SO IT'S START IS \"NOW\"\n",
    "        g.nodes[u]['color'] = 'gray'\n",
    "        mapped.append(u) #ADD TO MAPPED\n",
    "        \n",
    "        for v in sorted(g.neighbors(u)):\n",
    "            if g.nodes[v]['color'] == 'white':\n",
    "                g.nodes[v]['predecessor'] = g.nodes[u] #DEFINE ROOT AS PREDECESSOR FOR ALL NEIGHBORS\n",
    "                \n",
    "                #EXPAND MAPPED W/ THE NEIGHBOR\n",
    "                mapped.extend(dfs_visit(g, v, time)) \n",
    "                #NOTE THAT THIS SHOULD CYCLE THRU V'S NEIGHBORS AND NEIGHBORS' NEIGHBORS AND SO FORTH THRU THE GRAPH\n",
    "                \n",
    "        g.nodes[u]['color'] = 'black'    \n",
    "        time += 1\n",
    "        g.nodes[u]['finish'] = time\n",
    "        \n",
    "        return mapped\n",
    "        \n",
    "    # THE MAIN DFS FUNCTION, CALLING THE NOW-DEFINED DFS-VISIT FUNCTION\n",
    "    for u in graph.nodes():\n",
    "        graph.nodes[u]['color'] = 'white'\n",
    "        graph.nodes[u]['predecessor'] = None\n",
    "        \n",
    "    time = 0\n",
    "    \n",
    "    for u in graph.nodes():\n",
    "        if graph.nodes[u]['color'] == 'white':\n",
    "            return dfs_visit(graph, root, time)\n",
    "                \n",
    "    pass   "
   ]
  },
  {
   "cell_type": "markdown",
   "metadata": {},
   "source": [
    "We will check the correctness of your code by verifying that it correctly computes the connected component of node Ulysses (node `OD`)."
   ]
  },
  {
   "cell_type": "code",
   "execution_count": 6,
   "metadata": {},
   "outputs": [],
   "source": [
    "ulysses = Search(G, 'OD')"
   ]
  },
  {
   "cell_type": "markdown",
   "metadata": {},
   "source": [
    "Next implement DFS to find the connected components of the character graph. When choosing roots for your components, always pick the *smallest unvisited node* according to alphabetical ordering. Combined with your Search routine, this will ensure that the output is again uniquely defined."
   ]
  },
  {
   "cell_type": "code",
   "execution_count": 7,
   "metadata": {},
   "outputs": [],
   "source": [
    "def connected_components(graph):\n",
    "    \"\"\"Computes the connected components of the given graph.\n",
    "    \n",
    "    Args: \n",
    "        graph: the given graph, with nodes encoded as strings.\n",
    "        \n",
    "    Returns:\n",
    "        The connected components of the graph. Components are listed in\n",
    "        alphabetical order of their root nodes.\n",
    "    \"\"\"\n",
    "    # TODO: implement function\n",
    "    \n",
    "    # MAKING EMPTY OF ALL CCs TO EVENTUALLY RETURN \n",
    "    full_list_of_cc = []\n",
    "    \n",
    "    # MAKING WHILE LOOP TO RUN SEARCH ON SMALLEST COMPONENT LEFT IN LIST \n",
    "    # THEN ADD TO FULL CC LIST AND TOSS THAT NODE OUT OF ALL_NODES \n",
    "    # UNTIL ALL NODES HAVE BEEN DISCOVERED\n",
    "    \n",
    "    while len(graph.nodes()) > 0 :\n",
    "        all_nodes = sorted(graph.nodes())\n",
    "        cc = Search(graph, all_nodes[0])\n",
    "        full_list_of_cc.append(cc)\n",
    "        graph.remove_nodes_from(cc)\n",
    "    return full_list_of_cc\n",
    "    pass"
   ]
  },
  {
   "cell_type": "markdown",
   "metadata": {},
   "source": [
    "We will check correctness of your code by verifying that your output is identical to our solution."
   ]
  },
  {
   "cell_type": "code",
   "execution_count": 8,
   "metadata": {},
   "outputs": [],
   "source": [
    "character_interactions = connected_components(G)"
   ]
  },
  {
   "cell_type": "markdown",
   "metadata": {},
   "source": [
    "As a preliminary check, you should find that the following statements are all true."
   ]
  },
  {
   "cell_type": "code",
   "execution_count": 9,
   "metadata": {},
   "outputs": [
    {
     "name": "stdout",
     "output_type": "stream",
     "text": [
      "There are 12 connected components in the Iliad:True\n",
      "The giant component has size 542:True\n",
      "There are 5 isolated characters:True\n"
     ]
    }
   ],
   "source": [
    "component_sizes = [len(c) for c in character_interactions]\n",
    "print(\"There are 12 connected components in the Iliad:{}\".format(len(component_sizes) == 12))\n",
    "print(\"The giant component has size 542:{}\".format(max(component_sizes) == 542))\n",
    "print(\"There are 5 isolated characters:{}\".format(len([c for c in component_sizes if c == 1]) == 5))"
   ]
  }
 ],
 "metadata": {
  "kernelspec": {
   "display_name": "Python 3 (ipykernel)",
   "language": "python",
   "name": "python3"
  },
  "language_info": {
   "codemirror_mode": {
    "name": "ipython",
    "version": 3
   },
   "file_extension": ".py",
   "mimetype": "text/x-python",
   "name": "python",
   "nbconvert_exporter": "python",
   "pygments_lexer": "ipython3",
   "version": "3.11.4"
  }
 },
 "nbformat": 4,
 "nbformat_minor": 1
}
