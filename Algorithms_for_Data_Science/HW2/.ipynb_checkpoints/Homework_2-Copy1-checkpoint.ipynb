{
 "cells": [
  {
   "cell_type": "markdown",
   "metadata": {},
   "source": [
    "Below is the code and output from my second homework assignment from my Algorithms for Data Science course from my Master's in Data Science program from Columbia University (from the Fall semester of 2020). Instructions can be found in HW2_Instructions.pdf. Further, the original text of this notebook references the theory portion of the assignment, the instructions for which can be found in the file HW2_Theory_Instructions.pdf; descriptions of individual problems are provided within this notebook. Please note that this notebook is not maintained, so it may not run correctly for someone else."
   ]
  },
  {
   "cell_type": "markdown",
   "metadata": {},
   "source": [
    "PROBLEM 1"
   ]
  },
  {
   "cell_type": "markdown",
   "metadata": {},
   "source": [
    "(25 points) You are managing a team of engineers and need to assign tasks to them for n weeks. Every week i for 1 ≤ i ≤ n, you can assign to the team one of two kinds of tasks: an easy task with revenue li > 0 or a difficult task with revenue hi > 0. There is one constraint: if you pick a difficult task in week i, then you must assign no task to your team in week i − 1. That is, your team must be idle during week i − 1, thus earn revenue 0 in week i − 1.\n",
    "\n",
    "Given sets of revenues l1,l2,...,ln and h1,h2,...,hn, you want to assign tasks to your team during the n weeks so that the total revenue V of the tasks is maximized, subject to the constraint above. Give an efficient algorithm that computes the optimal revenue V . (It is ok for your team to start with a difficult task in week 1.)"
   ]
  },
  {
   "cell_type": "code",
   "execution_count": 1,
   "metadata": {},
   "outputs": [],
   "source": [
    "def work_life_balance(n, l, h):\n",
    "        \"\"\"\n",
    "        Given the length n, l array and harray, you need to compute the maximized revenue V.\n",
    "        n: length of both arrays\n",
    "        l: easy task revenue array\n",
    "        h: difficult task revenue array\n",
    "        Return: maximized revenue V\n",
    "        \"\"\"\n",
    "        idx = n - 1 #N WILL BE OUT OF RANGE BECAUSE OF 0 INDEX; CREATE NEW VAR TO GET LAST VAL\n",
    "        \n",
    "        # SET FIRST WEEK TO HARD TASKS; IN THE CASE OF 1 WEEK OF TASKS ALWAYS CHOOSE HARD BECAUSE NO PENALTY PRIOR\n",
    "        if idx == 0:\n",
    "            result = h[idx]\n",
    "        \n",
    "        # JUST TO BE CAREFUL FOR THE BACKWARD LOOK GOING PAST WEEK 0\n",
    "        elif idx < 0: \n",
    "            result = 0\n",
    "            \n",
    "        # CHOOSE MAX OF HARD TASK LAST WEEK PLUS MAX OF ALL TASKS ENDING 2 WEEKS PRIOR\n",
    "        # VERSUS EASY TASK AND MAX OF ALL TASKS ENDING IN 1 WEEK PRIOR\n",
    "        # NOTE THAT BECAUSE WE START AT END (N - 1) THIS WILL GO BACK THRU WEEKS AND FIND MAX COMBO FOR ALL WEEKS\n",
    "        else:\n",
    "            result = max(h[idx] + work_life_balance(n - 2, l, h), l[idx] + work_life_balance(n - 1, l, h))\n",
    "            \n",
    "        return result"
   ]
  },
  {
   "cell_type": "code",
   "execution_count": 2,
   "metadata": {},
   "outputs": [
    {
     "name": "stdout",
     "output_type": "stream",
     "text": [
      "7\n",
      "16\n"
     ]
    }
   ],
   "source": [
    "print(work_life_balance(3, [2,2,2], [3,3,3]))\n",
    "print(work_life_balance(4, [2,3,3,3], [5,10,5,5]))"
   ]
  },
  {
   "cell_type": "markdown",
   "metadata": {},
   "source": [
    "Input 1:\n",
    "    n = 3\n",
    "    l = [2,2,2]\n",
    "    h = [3,3,3]\n",
    "    output = 7\n",
    "    \n",
    "Input 2:\n",
    "    n = 4\n",
    "    l = [2,3,3,3]\n",
    "    h = [5,10,5,5]\n",
    "    output = 16"
   ]
  },
  {
   "cell_type": "markdown",
   "metadata": {},
   "source": [
    "(35 points) There is a number pyramid. The top floor has 1 positive integer. The second floor has 2 positive integers, the third floor 3, and so on and so forth.\n",
    "Here is an example of a pyramid with 4 floors:\n",
    "\n",
    "6 \n",
    "\n",
    "38 \n",
    "\n",
    "710 \n",
    "\n",
    "2644\n",
    "\n",
    "[A NOTE FROM ME - THE PYRAMID SHAPE DOESN NOT PASTE WELL; HERE IT WOULD BE DOWN STRAIGHT OR TO RIGHT, NOT TO LEFT OR TO RIGHT ON THE DIAGONAL DESCRIBED]\n",
    "\n",
    "You start from the top floor. At each step, you can go either diagonally down to the left or diagonally down to the right. This way you can form a route from the top of the pyramid to its base. Note that there are multiple routes that end somewhere in the base of the pyramid. Your goal is to maximize the sum of the integers on any route.\n",
    "Design and analyze an efficient algorithm to compute the maximum sum on any route from the top to the base of the pyramid. You should also return an optimal route. You may assume that there are n floors in the pyramid.\n",
    "In the above example, the maximum sum is 22 achieved by route 6 → 3 → 7 → 6."
   ]
  },
  {
   "cell_type": "markdown",
   "metadata": {},
   "source": [
    "PROBLEM 2"
   ]
  },
  {
   "cell_type": "code",
   "execution_count": 3,
   "metadata": {},
   "outputs": [],
   "source": [
    "import networkx"
   ]
  },
  {
   "cell_type": "code",
   "execution_count": 4,
   "metadata": {},
   "outputs": [],
   "source": [
    "def optimal_path(pyramid):\n",
    "    \"\"\"\n",
    "    Given the pyramid, find the optimal answer and ocrresponding path for it\n",
    "    Pyramid: the number pyramid described in the problem\n",
    "    Return: a tuple (answer, path).\n",
    "        Answer is the sum of the optimal route\n",
    "        Path is the optimal route in the list form\n",
    "    \"\"\"\n",
    "    #GOING TO USE NETWORKX TO MAKE A DIRECTED GRAPH TO TRAVEL OVER PYRAMID\n",
    "    \n",
    "    G = networkx.DiGraph()\n",
    "    \n",
    "    #SETUP TO GET NODES IN GRAPH WITH SOME BASIC INFO\n",
    "    nodes = []\n",
    "    counter = 0\n",
    "    \n",
    "    #USING A CUSTOM CLASS TO STORE THINGS LIKE ROW & ROW POSITION BEFORE ADDING TO GRAPH\n",
    "    class node:\n",
    "        def __init__(self, order, number, row, position, connected_nodes):\n",
    "            self.order = order\n",
    "            self.number = number\n",
    "            self.row = row\n",
    "            self.position = position\n",
    "            self.cn = connected_nodes\n",
    "    \n",
    "    #ACTUALLY ADD LIST ELEMENTS TO MY NODES LIST\n",
    "    for i in range(len(pyramid)):\n",
    "        pyramid_item = pyramid[i] #GET PYRAMID ROW\n",
    "        for j in range(len(pyramid_item)):\n",
    "            # ADD NODE FOR EACH NUM IN ROW; \n",
    "            # STORE ORDER THRU COUNTER, NUM THRU INDEX OF ROW, ROW W/I, POS W/J, BLANK LIST FOR CONNECTIONS\n",
    "            nodes.append(node(counter, pyramid_item[j], i, j, []))\n",
    "            counter += 1\n",
    "    \n",
    "    #GIVING EACH NODE A VALUE OF CONNECTED NODES IN FORM OF A LIST (USED FOR EDGES LATER)\n",
    "    for i in range(len(nodes)):\n",
    "        for j in range(i, len(nodes)):\n",
    "        # SECOND ROW IS ONE DOWN FROM FIRST; EQUAL POSITION = TO LEFT (STRAIGHT DOWN HERE); +1 MEANS TO RIGHT ON DIAG\n",
    "            if nodes[j].row == nodes[i].row + 1 and\\\n",
    "            (nodes[j].position == nodes[i].position or\\\n",
    "             nodes[j].position == nodes[i].position + 1):\n",
    "                nodes[i].cn.append(nodes[j])\n",
    "    \n",
    "    #READING EVERYTHING INTO GRAPH\n",
    "    for i in range(len(nodes)):\n",
    "        # DEFINE WEIGHT WITH NUMBER; WILL USE THIS LATER FOR NUMBERS TO DEFINE FLOW TO MAXIMIZE\n",
    "        G.add_node(nodes[i].order, weight = nodes[i].number, cn = nodes[i].cn)\n",
    "    \n",
    "    #USING CONNECTED NODES FROM CUSTOM CLASS TO ADD EDGES\n",
    "    for i in range(len(nodes)):\n",
    "        for j in range(len(nodes[i].cn)):\n",
    "            G.add_edge(nodes[i].order, nodes[i].cn[j].order)\n",
    "            \n",
    "    \n",
    "    \n",
    "    #NOW THAT THE PYRAMID IS IN GRAPH FORM, I USE MY MODIFIED VERSION OF DIJKSTRA'S ALGORITHM\n",
    "    def dijkstra_modified(g, source):\n",
    "        S = [] #VISITED SET\n",
    "\n",
    "        for node in range(len(g)):\n",
    "            # INITIALIZE VALS\n",
    "            g.nodes[node]['distance'] = None\n",
    "            g.nodes[node]['visited'] = False\n",
    "            g.nodes[node]['prev'] = None\n",
    "            g.nodes[node]['max_dist'] = float('-inf')\n",
    "\n",
    "\n",
    "        S.append(source)\n",
    "        g.nodes[source]['distance'] = g.nodes[source]['weight'] #DISTANCE CONSIDERED JUST EQUALS NUM\n",
    "        g.nodes[source]['max_dist'] = g.nodes[source]['weight'] #SAME FOR MAX DIST SINCE FIRST VAL\n",
    "\n",
    "        while len(S) > 0:\n",
    "            u = S.pop(0) # CONSIDER FIRST VAL IN S AND DROP IT FROM LIST\n",
    "            g.nodes[u]['visited'] = True\n",
    "\n",
    "            for neighbor in g.neighbors(u):\n",
    "                if g.nodes[neighbor]['visited'] == False:\n",
    "                    \n",
    "                    # CONSIDERED DISTANCE IS NUM + PATH TO PREDECESSOR VAL\n",
    "                    g.nodes[neighbor]['distance'] = g.nodes[u]['distance'] + g.nodes[neighbor]['weight']\n",
    "                    \n",
    "                    # MAKE THIS NEW MAX DIST IF > EXISTING (INIT. AT -INF SO FIRST ALWAYS PUT IN)\n",
    "                    if g.nodes[neighbor]['distance'] > g.nodes[neighbor]['max_dist']:\n",
    "                        g.nodes[neighbor]['max_dist'] = g.nodes[neighbor]['distance']\n",
    "                        g.nodes[neighbor]['prev'] = u #IF THIS IS IS LONGEST PATH (LARGEST SUM) WANT THIS PATH\n",
    "                        S.append(neighbor)\n",
    "                        \n",
    "        return g\n",
    "    \n",
    "    \n",
    "    #USE DIJKSTRA-MODIFIED GRAPH TO GET FINAL ANSWERS\n",
    "    final_graph = dijkstra_modified(G, 0) #START AT FIRST FLOOR OF PYRAMID\n",
    "    \n",
    "    # ORDER ALL NODES BY MAX DIST (LARGEST SUM) POSSIBLE TO GET THERE\n",
    "    relevant_list = sorted(final_graph.nodes, key = lambda x: final_graph.nodes[x]['max_dist'], reverse = True)\n",
    "    \n",
    "    # PULL 'WINNER'\n",
    "    relevant_node = relevant_list[0]\n",
    "    \n",
    "    # AND GET ITS ACTUAL PATH VAL\n",
    "    longest_path = final_graph.nodes[relevant_node]['max_dist']\n",
    "    \n",
    "    path = []\n",
    "    \n",
    "    #ADD ALL NODES AFTER SOURCE\n",
    "    u = relevant_node\n",
    "    while final_graph.nodes[u]['prev'] != None:\n",
    "        path.append(final_graph.nodes[u]['weight']) #WEIGHT EQUALS ORIG NUMBER\n",
    "        u = final_graph.nodes[u]['prev']\n",
    "        \n",
    "    #ADD SOURCE TO PATH AND PUT IT IN ORIGINAL ORDER\n",
    "    path.append(final_graph.nodes[0]['weight'])\n",
    "    path.reverse() #ADDED FROM END; NEED BEGINNING TO END\n",
    "    \n",
    "    return (longest_path, path) #WANT SUM PLUS PATH THERE\n",
    "    \n",
    "    "
   ]
  },
  {
   "cell_type": "markdown",
   "metadata": {},
   "source": [
    "Input 1:\n",
    "    Pyramid = [[6], [3,8], [7,1,0], [2,6,4,4]]\n",
    "    Output = (22, [6,3,7,6])\n",
    "    \n",
    "Input 2:\n",
    "    Pyramid = [[3], [2,1], [1,1,5]]\n",
    "    Output = (9, [3,1,5])"
   ]
  },
  {
   "cell_type": "code",
   "execution_count": 5,
   "metadata": {},
   "outputs": [
    {
     "name": "stdout",
     "output_type": "stream",
     "text": [
      "(22, [6, 3, 7, 6])\n",
      "(9, [3, 1, 5])\n"
     ]
    }
   ],
   "source": [
    "Pyramid = [[6], [3,8], [7,1,0], [2,6,4,4]]\n",
    "print(optimal_path(Pyramid))\n",
    "Pyramid = [[3], [2,1], [1,1,5]]\n",
    "print(optimal_path(Pyramid))"
   ]
  },
  {
   "cell_type": "markdown",
   "metadata": {},
   "source": [
    "PROBLEM 3"
   ]
  },
  {
   "cell_type": "markdown",
   "metadata": {},
   "source": [
    "(30 points) You are given three strings X, Y , Z of lengths m, n, r respectively.\n",
    "Give an efficient algorithm to compute the length of the longest common subsequence of the\n",
    "three strings.\n",
    "\n",
    "A subsequence of string s1s2 . . . sn is a subset of the characters of the string taken in order, of the form si1,si2,...,sik where 1 ≤ i1 < i2 < ... < ik ≤ n. For example, the longest common subsequence of ”abc”, ”bdc” and ”bacd” is ”bc” and its length is 2."
   ]
  },
  {
   "cell_type": "code",
   "execution_count": 6,
   "metadata": {},
   "outputs": [],
   "source": [
    "def LCS3(X, Y, Z):\n",
    "    \"\"\"\n",
    "    given three strings X, Y, Z, you are to find the longest common subsequence among these three strings.\n",
    "    X, Y, Z: three input strings as described\n",
    "    Return: the length of LCS for these 3 strings\n",
    "    \"\"\"\n",
    "    \n",
    "    #GETTING LENGTHS OF THE STRINGS\n",
    "    m = len(X)\n",
    "    n = len(Y)\n",
    "    o = len(Z)\n",
    "    \n",
    "    #MAKING DYNAMIC PROGRAMMING TABLE FILLED WITH 0S IN DEFAULT\n",
    "    DP = [[[0 for i in range(o+1)] for j in range(n+1)] \n",
    "         for k in range(m+1)] \n",
    "    \n",
    "    #FILLING IN DP TABLE USING THE \"DIAGONAL\" AS SUBPROBLEMS\n",
    "    for i in range(m+1):\n",
    "        for j in range(n+1):\n",
    "            for k in range(o+1):\n",
    "                \n",
    "                # BASE CASE = 0\n",
    "                if i == 0 or j == 0 or k == 0:\n",
    "                    DP[i][j][k] = 0\n",
    "                    \n",
    "                # IF ALL EQUAL AT PREV SPOT, ADD 1 TO SEQ LENGTH\n",
    "                elif X[i-1] == Y[j-1] == Z[k-1]:\n",
    "                    DP[i][j][k] = DP[i-1][j-1][k-1] + 1\n",
    "                    \n",
    "                # IF NOT, LONGEST SEQ IS MAX OF ONE BACK ALONG EACH OF THE THREE DIMS\n",
    "                else:\n",
    "                    DP[i][j][k] = max(DP[i-1][j][k], DP[i][j-1][k], DP[i][j][k-1])\n",
    "                    \n",
    "    # HAVING FILLED THE TABLE, RETURN THE LARGEST SUB-SEQ FROM END\n",
    "    return DP[m][n][o]"
   ]
  },
  {
   "cell_type": "markdown",
   "metadata": {},
   "source": [
    "Input 1:\n",
    "X = 'abc'\n",
    "Y = 'bdc'\n",
    "Z = 'bacd'\n",
    "Output 1: 2\n",
    "\n",
    "Input 2:\n",
    "X = 'aaa'\n",
    "Y = 'aaaa'\n",
    "Z = 'aa'\n",
    "Output 2: 2"
   ]
  },
  {
   "cell_type": "code",
   "execution_count": 7,
   "metadata": {},
   "outputs": [
    {
     "name": "stdout",
     "output_type": "stream",
     "text": [
      "2\n",
      "2\n"
     ]
    }
   ],
   "source": [
    "print(LCS3('abc', 'bdc', 'bacd'))\n",
    "print(LCS3('aaa', 'aaaa', 'aa'))"
   ]
  },
  {
   "cell_type": "markdown",
   "metadata": {},
   "source": [
    "PROBLEM 4"
   ]
  },
  {
   "cell_type": "markdown",
   "metadata": {},
   "source": [
    "(30 points) You’re taking n courses, each with a final project that still has to be done. Each project will receive an integer grade on a scale of 1 to g > 1 (a higher number is a better grade). Your goal is to maximize your average grade on the n projects.\n",
    "\n",
    "You have a total of H > n hours to work on the n projects, and you want to decide how to divide up this time. You have determined that, if you spend h ≤ H hours on project i, you’ll get a grade of fi(h) (assume that H, h are positive integers and the functions fi are non-decreasing: if h < h′ then fi(h) ≤ fi(h′)).\n",
    "Given n, H, g, f1,...,fn, give a O(nH2) algorithm that computes the maximum average grade you can achieve by deciding how many hours you should spend on each.\n"
   ]
  },
  {
   "cell_type": "code",
   "execution_count": 8,
   "metadata": {},
   "outputs": [],
   "source": [
    "def linear(x):\n",
    "    return x\n",
    "\n",
    "def square(x):\n",
    "    return x * x\n",
    "\n",
    "def linear2(x):\n",
    "    return x * 1.2\n"
   ]
  },
  {
   "cell_type": "code",
   "execution_count": 9,
   "metadata": {},
   "outputs": [],
   "source": [
    "def max_average(n, H, g, f_list):\n",
    "    \"\"\"\n",
    "    Given the function and grade scale, find the optimal average grade a student can get\n",
    "    according to the problem description.\n",
    "    \n",
    "    n: number of function\n",
    "    H: total amount of hours\n",
    "    g: grade scale\n",
    "    f_list: a list of functions\n",
    "    Return: maximum average grade one can get\n",
    "    \"\"\"\n",
    "    \n",
    "    # INITITALIZE DP TABLE W/2 DIMS (CLASSES, HOURS), 0S TO START\n",
    "    DP = [[0 for x in range(H + 1)] for x in range(n + 1)]\n",
    "    \n",
    "    # KEY RECURRENCE = USING H HOURS FOR CLASS I:\n",
    "    \n",
    "    # CONSIDER EACH CLASS\n",
    "    for i in range(n + 1):\n",
    "        \n",
    "        # CAN HAVE A MAXIMUM OF H HOURS SPENT\n",
    "        for h in range(H + 1):\n",
    "            \n",
    "            # SET BOUNDARY CASE TO 0\n",
    "            if i == 0 or h == 0:\n",
    "                DP[i][h] = 0\n",
    "                \n",
    "            # CASE OF FEWER HOURS THAN TOTAL AVAILABILITY\n",
    "            elif h <= H:\n",
    "                DP[i][h] = max( #CHOOSE MAX OF TWO OPTIONS\n",
    "                    \n",
    "                             # THIS IS THE CASE OF USING h HOURS ON THE ith CLASS AND H-h ON THE REST\n",
    "                             min(f_list[i-1](h), g) + DP[i-1][H - h], #NOTE THAT g IS THE MAX GRADE, HENCE MIN FUNC\n",
    "                    \n",
    "                             # THIS IS THE CASE OF SPENDING ALL HOURS ON THE OTHER CLASSES\n",
    "                             DP[i-1][H]\n",
    "                            )\n",
    "            \n",
    "            # OTHERWISE WE DON'T HAVE THE AVAILABLE HOURS, SO EQUAL USING THE HOURS ON THE REST\n",
    "            else:\n",
    "                DP[i][h] = DP[i-1][H]\n",
    "    \n",
    "    # RETURN THE MAX SUM OF THE POTENTIAL COMBOS; /N FOR AVERAGE (N FUNCTIONS - N CLASSES)\n",
    "    return max(DP[n])/n"
   ]
  },
  {
   "cell_type": "markdown",
   "metadata": {},
   "source": [
    "Input 1:\n",
    "n = 2\n",
    "H = 10\n",
    "g = 100\n",
    "f_list = [linear, square]\n",
    "Output 1: 50\n",
    "\n",
    "Input 2:\n",
    "n = 2\n",
    "H = 10\n",
    "g = 50\n",
    "f_list = [linear2, square]\n",
    "Output 2: 26.3\n",
    "\n",
    "Explanation:\n",
    "\n",
    "If we spend 2 hours in project 1 and 8 hours in project 2, average grade is (2 * 1.2 + min(50, 8 *8)) / 2 = 26.2\n",
    "\n",
    "If we spend 3 hours in project 1 and 7 hours in project 2, average grade is (3 * 1.2 + 7 * 7) / 2 =26.3\n",
    "\n",
    "If we spend 4 hours in project 1 and 6 hours in project 2, average grade is (4 * 1.2 + 6 * 6) / 2 =20.4"
   ]
  },
  {
   "cell_type": "code",
   "execution_count": 10,
   "metadata": {},
   "outputs": [
    {
     "name": "stdout",
     "output_type": "stream",
     "text": [
      "50.0\n",
      "26.3\n"
     ]
    }
   ],
   "source": [
    "print(max_average(2, 10, 100, [linear, square]))\n",
    "print(max_average(2, 10, 50, [linear2, square]))"
   ]
  },
  {
   "cell_type": "code",
   "execution_count": null,
   "metadata": {},
   "outputs": [],
   "source": []
  }
 ],
 "metadata": {
  "kernelspec": {
   "display_name": "Python 3 (ipykernel)",
   "language": "python",
   "name": "python3"
  },
  "language_info": {
   "codemirror_mode": {
    "name": "ipython",
    "version": 3
   },
   "file_extension": ".py",
   "mimetype": "text/x-python",
   "name": "python",
   "nbconvert_exporter": "python",
   "pygments_lexer": "ipython3",
   "version": "3.11.4"
  }
 },
 "nbformat": 4,
 "nbformat_minor": 4
}
