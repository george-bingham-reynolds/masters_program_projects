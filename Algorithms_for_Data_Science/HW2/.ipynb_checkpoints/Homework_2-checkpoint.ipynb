{
 "cells": [
  {
   "cell_type": "markdown",
   "metadata": {},
   "source": [
    "PROBLEM 1"
   ]
  },
  {
   "cell_type": "code",
   "execution_count": 2,
   "metadata": {},
   "outputs": [],
   "source": [
    "def work_life_balance(n, l, h):\n",
    "        \"\"\"\n",
    "        Given the length n, l array and harray, you need to compute the maximized revenue V.\n",
    "        n: length of both arrays\n",
    "        l: easy task revenue array\n",
    "        h: difficult task revenue array\n",
    "        Return: maximized revenue V\n",
    "        \"\"\"\n",
    "        larry = []\n",
    "        for i in range(n):\n",
    "            larry = []\n",
    "            if i == 0:\n",
    "                result = h[i]\n",
    "            elif i < 0:\n",
    "                result = 0\n",
    "            else:\n",
    "                result = max(h[i] + work_life_balance(n - 2, l, h), l[i] + work_life_balance(n - 1, l, h))\n",
    "            larry.append(result)\n",
    "        return sum(larry)"
   ]
  },
  {
   "cell_type": "code",
   "execution_count": 3,
   "metadata": {},
   "outputs": [
    {
     "data": {
      "text/plain": [
       "16"
      ]
     },
     "execution_count": 3,
     "metadata": {},
     "output_type": "execute_result"
    }
   ],
   "source": [
    "work_life_balance(3, [2,2,2], [3,3,3])\n",
    "work_life_balance(4, [2,3,3,3], [5,10,5,5])"
   ]
  },
  {
   "cell_type": "markdown",
   "metadata": {},
   "source": [
    "Input 1:\n",
    "    n = 3\n",
    "    l = [2,2,2]\n",
    "    h = [3,3,3]\n",
    "    output = 7\n",
    "    \n",
    "Input 2:\n",
    "    n = 4\n",
    "    l = [2,3,3,3]\n",
    "    h = [5,10,5,5]\n",
    "    output = 16"
   ]
  },
  {
   "cell_type": "markdown",
   "metadata": {},
   "source": [
    "PROBLEM 2"
   ]
  },
  {
   "cell_type": "code",
   "execution_count": 4,
   "metadata": {},
   "outputs": [],
   "source": [
    "import networkx"
   ]
  },
  {
   "cell_type": "code",
   "execution_count": 5,
   "metadata": {},
   "outputs": [],
   "source": [
    "def optimal_path(pyramid):\n",
    "    \"\"\"\n",
    "    Given the pyramid, find the optimal answer and ocrresponding path for it\n",
    "    Pyramid: the number pyramid described in the problem\n",
    "    Return: a tuple (answer, path).\n",
    "        Answer is the sum of the optimal route\n",
    "        Path is the optimal route in the list form\n",
    "    \"\"\"\n",
    "    #GOING TO USE NETWORKX TO MAKE A DIRECTED GRAPH TO TRAVEL OVER PYRAMID\n",
    "    \n",
    "    G = networkx.DiGraph()\n",
    "    \n",
    "    #SETUP TO GET NODES IN GRAPH WITH SOME BASIC INFO\n",
    "    nodes = []\n",
    "    counter = 0\n",
    "    \n",
    "    #USING A CUSTOM CLASS TO STORE THINGS LIKE ROW & ROW POSITION BEFORE ADDING TO GRAPH\n",
    "    class node:\n",
    "        def __init__(self, order, number, row, position, connected_nodes):\n",
    "            self.order = order\n",
    "            self.number = number\n",
    "            self.row = row\n",
    "            self.position = position\n",
    "            self.cn = connected_nodes\n",
    "    \n",
    "    #ACTUALLY ADD LIST ELEMENTS TO MY NODES LIST\n",
    "    for i in range(len(pyramid)):\n",
    "        pyramid_item = pyramid[i]\n",
    "        for j in range(len(pyramid_item)):\n",
    "            nodes.append(node(counter, pyramid_item[j], i, j, []))\n",
    "            counter += 1\n",
    "    \n",
    "    #GIVING EACH NODE A VALUE OF CONNECTED NODES IN FORM OF A LIST (USED FOR EDGES LATER)\n",
    "    for i in range(len(nodes)):\n",
    "        for j in range(i, len(nodes)):\n",
    "            if nodes[j].row == nodes[i].row + 1 and (nodes[j].position == nodes[i].position or nodes[j].position == nodes[i].position + 1):\n",
    "                nodes[i].cn.append(nodes[j])\n",
    "    \n",
    "    #READING EVERYTHING INTO GRAPH\n",
    "    for i in range(len(nodes)):\n",
    "        G.add_node(nodes[i].order, weight = nodes[i].number, cn = nodes[i].cn)\n",
    "    \n",
    "    #USING CONNECTED NODES FROM CUSTOM CLASS TO ADD EDGES\n",
    "    for i in range(len(nodes)):\n",
    "        for j in range(len(nodes[i].cn)):\n",
    "            G.add_edge(nodes[i].order, nodes[i].cn[j].order)\n",
    "            \n",
    "    \n",
    "    \n",
    "    #NOW THAT THE PYRAMID IS IN GRAPH FORM, I USE MY MODIFIED VERSION OF DIJKSTRA'S ALGORITHM\n",
    "    def dijkstra_modified(g, source):\n",
    "        S = []\n",
    "\n",
    "        for node in range(len(g)):\n",
    "            g.nodes[node]['distance'] = None\n",
    "            g.nodes[node]['visited'] = False\n",
    "            g.nodes[node]['prev'] = None\n",
    "            g.nodes[node]['max_dist'] = float('-inf')\n",
    "\n",
    "\n",
    "        S.append(source)\n",
    "        g.nodes[source]['distance'] = g.nodes[source]['weight']\n",
    "        g.nodes[source]['max_dist'] = g.nodes[source]['weight']\n",
    "\n",
    "        while len(S) > 0:\n",
    "            u = S.pop(0)\n",
    "            g.nodes[u]['visited'] = True\n",
    "\n",
    "            for neighbor in g.neighbors(u):\n",
    "                if g.nodes[neighbor]['visited'] == False:\n",
    "                    g.nodes[neighbor]['distance'] = g.nodes[u]['distance'] + g.nodes[neighbor]['weight']\n",
    "                    if g.nodes[neighbor]['distance'] > g.nodes[neighbor]['max_dist']:\n",
    "                        g.nodes[neighbor]['max_dist'] = g.nodes[neighbor]['distance']\n",
    "                        g.nodes[neighbor]['prev'] = u\n",
    "                        S.append(neighbor)\n",
    "                        \n",
    "        return g\n",
    "    \n",
    "    \n",
    "    #USE DIJKSTRA-MODIFIED GRAPH TO GET FINAL ANSWERS\n",
    "    final_graph = dijkstra_modified(G, 0)\n",
    "    \n",
    "    relevant_list = sorted(final_graph.nodes, key = lambda x: final_graph.nodes[x]['max_dist'], reverse = True)\n",
    "    \n",
    "    relevant_node = relevant_list[0]\n",
    "    \n",
    "    longest_path = final_graph.nodes[relevant_node]['max_dist']\n",
    "    \n",
    "    path = []\n",
    "    \n",
    "    #ADD ALL NODES AFTER SOURCE\n",
    "    u = relevant_node\n",
    "    while final_graph.nodes[u]['prev'] != None:\n",
    "        path.append(final_graph.nodes[u]['weight'])\n",
    "        u = final_graph.nodes[u]['prev']\n",
    "        \n",
    "    #ADD SOURCE TO PATH AND PUT IT IN ORIGINAL ORDER\n",
    "    path.append(final_graph.nodes[0]['weight'])\n",
    "    path.reverse()\n",
    "    \n",
    "    return (longest_path, path)\n",
    "    \n",
    "    "
   ]
  },
  {
   "cell_type": "code",
   "execution_count": 19,
   "metadata": {},
   "outputs": [],
   "source": [
    "def optimal_path2(pyramid):\n",
    "    \"\"\"\n",
    "    Given the pyramid, find the optimal answer and ocrresponding path for it\n",
    "    Pyramid: the number pyramid described in the problem\n",
    "    Return: a tuple (answer, path).\n",
    "        Answer is the sum of the optimal route\n",
    "        Path is the optimal route in the list form\n",
    "    \"\"\"\n",
    "    #GOING TO USE NETWORKX TO MAKE A DIRECTED GRAPH TO TRAVEL OVER PYRAMID\n",
    "    \n",
    "    G = networkx.DiGraph()\n",
    "    \n",
    "    #SETUP TO GET NODES IN GRAPH WITH SOME BASIC INFO\n",
    "    nodes = []\n",
    "    counter = 0\n",
    "    \n",
    "    #USING A CUSTOM CLASS TO STORE THINGS LIKE ROW & ROW POSITION BEFORE ADDING TO GRAPH\n",
    "    class node:\n",
    "        def __init__(self, order, number, row, position, connected_nodes):\n",
    "            self.order = order\n",
    "            self.number = number\n",
    "            self.row = row\n",
    "            self.position = position\n",
    "            self.cn = connected_nodes\n",
    "    \n",
    "    #ACTUALLY ADD LIST ELEMENTS TO MY NODES LIST\n",
    "    for i in range(len(pyramid)):\n",
    "        pyramid_item = pyramid[i]\n",
    "        for j in range(len(pyramid_item)):\n",
    "            nodes.append(node(counter, pyramid_item[j], i, j, []))\n",
    "            counter += 1\n",
    "    \n",
    "    #GIVING EACH NODE A VALUE OF CONNECTED NODES IN FORM OF A LIST (USED FOR EDGES LATER)\n",
    "    for i in range(len(nodes)):\n",
    "        for j in range(i, len(nodes)):\n",
    "            if nodes[j].row == nodes[i].row + 1 and (nodes[j].position == nodes[i].position or nodes[j].position == nodes[i].position + 1):\n",
    "                nodes[i].cn.append(nodes[j])\n",
    "    \n",
    "    #READING EVERYTHING INTO GRAPH\n",
    "    for i in range(len(nodes)):\n",
    "        G.add_node(nodes[i].order, weight = nodes[i].number, cn = nodes[i].cn)\n",
    "    \n",
    "    #USING CONNECTED NODES FROM CUSTOM CLASS TO ADD EDGES\n",
    "    for i in range(len(nodes)):\n",
    "        for j in range(len(nodes[i].cn)):\n",
    "            G.add_edge(nodes[i].order, nodes[i].cn[j].order)\n",
    "            \n",
    "    #INTIALIZE FROM PSEUDOCODE, 'VISITED' IS BASICALLY A FIELD FOR LABELED AS IN S OR NOT\n",
    "    #HAVE MAX_DIST AND DISTANCE TO KEEP TRACK OF THE UPDATE PART OF PSEUDOCODE WHERE DISTANCES ARE COMPARED\n",
    "    def initialize(g):\n",
    "        for node in range(len(g)):\n",
    "            g.nodes[node]['distance'] = None\n",
    "            g.nodes[node]['visited'] = False\n",
    "            g.nodes[node]['prev'] = None\n",
    "            g.nodes[node]['max_dist'] = float('-inf')\n",
    "        return g\n",
    "    \n",
    "    \n",
    "    #NOW THAT THE PYRAMID IS IN GRAPH FORM, I USE MY MODIFIED VERSION OF DIJKSTRA'S ALGORITHM\n",
    "    def dijkstra_modified(g, source):\n",
    "        #NOT THE SAME S AS IN PSEUDOCODE - JUST FOR LINING UP LARRIES TO JUMP FROM\n",
    "        S = []\n",
    "        \n",
    "        g = initialize(g)\n",
    "\n",
    "\n",
    "        S.append(source)\n",
    "        g.nodes[source]['distance'] = g.nodes[source]['weight']\n",
    "        g.nodes[source]['max_dist'] = g.nodes[source]['weight']\n",
    "        \n",
    "        #SLIGHTLY DIFFERENT FROM IN PSEUDOCODE, NOT AS FOCUSED ON GETTING MAX LENGTH ONE NEXT, SINCE RUNNING THRU WHOLE LARRY\n",
    "        while len(S) > 0:\n",
    "            u = S.pop(0)\n",
    "            g.nodes[u]['visited'] = True\n",
    "\n",
    "            #THIS IS THE UDPATE PART OF PSEUDOCODE - EASIER TO DO WITHOUT SEPARATE FUNCTION\n",
    "            for neighbor in g.neighbors(u):\n",
    "                if g.nodes[neighbor]['visited'] == False: #PULLING NEIGHBORS IN V-S AND GIVING THE DISTANCE\n",
    "                    g.nodes[neighbor]['distance'] = g.nodes[u]['distance'] + g.nodes[neighbor]['weight']\n",
    "                    if g.nodes[neighbor]['distance'] > g.nodes[neighbor]['max_dist']: #UPDATING DIST IF GREATER THAN WHAT'S THERE NOW\n",
    "                        g.nodes[neighbor]['max_dist'] = g.nodes[neighbor]['distance']\n",
    "                        g.nodes[neighbor]['prev'] = u\n",
    "                        S.append(neighbor)\n",
    "                        \n",
    "        return g\n",
    "    \n",
    "    \n",
    "    #USE DIJKSTRA-MODIFIED GRAPH TO GET FINAL ANSWERS\n",
    "    final_graph = dijkstra_modified(G, 0)\n",
    "    \n",
    "    relevant_list = sorted(final_graph.nodes, key = lambda x: final_graph.nodes[x]['max_dist'], reverse = True)\n",
    "    \n",
    "    relevant_node = relevant_list[0]\n",
    "    \n",
    "    longest_path = final_graph.nodes[relevant_node]['max_dist']\n",
    "    \n",
    "    path = []\n",
    "    \n",
    "    #ADD ALL NODES AFTER SOURCE\n",
    "    u = relevant_node\n",
    "    while final_graph.nodes[u]['prev'] != None:\n",
    "        path.append(final_graph.nodes[u]['weight'])\n",
    "        u = final_graph.nodes[u]['prev']\n",
    "        \n",
    "    #ADD SOURCE TO PATH AND PUT IT IN ORIGINAL ORDER\n",
    "    path.append(final_graph.nodes[0]['weight'])\n",
    "    path.reverse()\n",
    "    \n",
    "    return (longest_path, path)\n",
    "    \n",
    "    "
   ]
  },
  {
   "cell_type": "markdown",
   "metadata": {},
   "source": [
    "Input 1:\n",
    "    Pyramid = [[6], [3,8], [7,1,0], [2,6,4,4]]\n",
    "    Output = (22, [6,3,7,6])\n",
    "    \n",
    "Input 2:\n",
    "    Pyramid = [[3], [2,1], [1,1,5]]\n",
    "    Output = (9, [3,1,5])"
   ]
  },
  {
   "cell_type": "code",
   "execution_count": 26,
   "metadata": {},
   "outputs": [
    {
     "data": {
      "text/plain": [
       "(8, [1, 2, 3, 3])"
      ]
     },
     "execution_count": 26,
     "metadata": {},
     "output_type": "execute_result"
    }
   ],
   "source": [
    "# optimal_path2([[1],[2,1],[1,3,2],[2,3,2,3]])\n",
    "optimal_path2([[1],[2,1],[1,3,2],[2,3,2,3]])"
   ]
  },
  {
   "cell_type": "code",
   "execution_count": 8,
   "metadata": {},
   "outputs": [],
   "source": [
    "def LCS3(X, Y, Z):\n",
    "    \"\"\"\n",
    "    given three strings X, Y, Z, you are to find the longest common subsequence among these three strings.\n",
    "    X, Y, Z: three input strings as described\n",
    "    Return: the length of LCS for these 3 strings\n",
    "    \"\"\"\n",
    "    \n",
    "    #GETTING LENGTHS OF THE STRINGS\n",
    "    m = len(X)\n",
    "    n = len(Y)\n",
    "    o = len(Z)\n",
    "    \n",
    "    #MAKING DYNAMIC PROGRAMMING TABLE FILLED WITH 0S IN DEFAULT\n",
    "    DP = [[[0 for i in range(o+1)] for j in range(n+1)] \n",
    "         for k in range(m+1)] \n",
    "    \n",
    "    #FILLING IN DP TABLE USING THE \"DIAGONAL\" AS SUBPROBLEMS\n",
    "    for i in range(m+1):\n",
    "        for j in range(n+1):\n",
    "            for k in range(o+1):\n",
    "                if i == 0 or j == 0 or k == 0:\n",
    "                    DP[i][j][k] = 0\n",
    "                elif X[i-1] == Y[j-1] == Z[k-1]:\n",
    "                    DP[i][j][k] = DP[i-1][j-1][k-1] + 1\n",
    "                else:\n",
    "                    DP[i][j][k] = max(DP[i-1][j][k], DP[i][j-1][k], DP[i][j][k-1])\n",
    "    \n",
    "    return DP[m][n][o]"
   ]
  },
  {
   "cell_type": "markdown",
   "metadata": {},
   "source": [
    "Input 1:\n",
    "X = 'abc'\n",
    "Y = 'bdc'\n",
    "Z = 'bacd'\n",
    "Output 1: 2\n",
    "\n",
    "Input 2:\n",
    "X = 'aaa'\n",
    "Y = 'aaaa'\n",
    "Z = 'aa'\n",
    "Output 2: 2"
   ]
  },
  {
   "cell_type": "code",
   "execution_count": 9,
   "metadata": {},
   "outputs": [
    {
     "data": {
      "text/plain": [
       "2"
      ]
     },
     "execution_count": 9,
     "metadata": {},
     "output_type": "execute_result"
    }
   ],
   "source": [
    "LCS3('abc', 'bdc', 'bacd')"
   ]
  },
  {
   "cell_type": "markdown",
   "metadata": {},
   "source": [
    "PROBLEM 4"
   ]
  },
  {
   "cell_type": "code",
   "execution_count": 10,
   "metadata": {},
   "outputs": [],
   "source": [
    "def linear(x):\n",
    "    return x\n",
    "\n",
    "def square(x):\n",
    "    return x * x\n",
    "\n",
    "def linear2(x):\n",
    "    return x * 1.2\n"
   ]
  },
  {
   "cell_type": "code",
   "execution_count": 11,
   "metadata": {},
   "outputs": [],
   "source": [
    "def max_average(n, H, g, f_list):\n",
    "    \"\"\"\n",
    "    Given the function and grade scale, find the optimal average grade a student can get\n",
    "    according to the problem description.\n",
    "    \n",
    "    n: number of function\n",
    "    H: total amount of hours\n",
    "    g: grade scale\n",
    "    f_list: a list of functions\n",
    "    Return: maximum average grade one can get\n",
    "    \"\"\"\n",
    "    \n",
    "    DP = [[0 for x in range(H + 1)] for x in range(n + 1)]\n",
    "    \n",
    "    for i in range(n + 1):\n",
    "        for h in range(H + 1):\n",
    "            if i == 0 or h == 0:\n",
    "                DP[i][h] = 0\n",
    "            elif h <= H:\n",
    "                DP[i][h] = max(min(f_list[i-1](h), g)\n",
    "                           + DP[i-1][H - h],\n",
    "                              DP[i-1][H])\n",
    "            else:\n",
    "                DP[i][h] = DP[i-1][h]\n",
    "    return max(DP[n])/n"
   ]
  },
  {
   "cell_type": "markdown",
   "metadata": {},
   "source": [
    "Input 1:\n",
    "n = 2\n",
    "H = 10\n",
    "g = 100\n",
    "f_list = [linear, square]\n",
    "Output 1: 50\n",
    "\n",
    "Input 2:\n",
    "n = 2\n",
    "H = 10\n",
    "g = 50\n",
    "f_list = [linear2, square]\n",
    "Output 2: 26.3\n",
    "\n",
    "Explanation:\n",
    "\n",
    "If we spend 2 hours in project 1 and 8 hours in project 2, average grade is (2 * 1.2 + min(50, 8 *8)) / 2 = 26.2\n",
    "\n",
    "If we spend 3 hours in project 1 and 7 hours in project 2, average grade is (3 * 1.2 + 7 * 7) / 2 =26.3\n",
    "\n",
    "If we spend 4 hours in project 1 and 6 hours in project 2, average grade is (4 * 1.2 + 6 * 6) / 2 =20.4"
   ]
  },
  {
   "cell_type": "code",
   "execution_count": 12,
   "metadata": {},
   "outputs": [
    {
     "data": {
      "text/plain": [
       "26.3"
      ]
     },
     "execution_count": 12,
     "metadata": {},
     "output_type": "execute_result"
    }
   ],
   "source": [
    "max_average(2, 10, 50, [linear2, square])"
   ]
  },
  {
   "cell_type": "code",
   "execution_count": null,
   "metadata": {},
   "outputs": [],
   "source": []
  }
 ],
 "metadata": {
  "kernelspec": {
   "display_name": "Python 3 (ipykernel)",
   "language": "python",
   "name": "python3"
  },
  "language_info": {
   "codemirror_mode": {
    "name": "ipython",
    "version": 3
   },
   "file_extension": ".py",
   "mimetype": "text/x-python",
   "name": "python",
   "nbconvert_exporter": "python",
   "pygments_lexer": "ipython3",
   "version": "3.11.4"
  }
 },
 "nbformat": 4,
 "nbformat_minor": 4
}
