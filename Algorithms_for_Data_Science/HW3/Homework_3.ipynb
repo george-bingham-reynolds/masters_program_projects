{
 "cells": [
  {
   "cell_type": "markdown",
   "metadata": {},
   "source": [
    "# Max Flow Applications\n",
    "\n",
    "The purpose of this assignment is to investigate applications of finding a Max Flow. The problem asks you to design and implement an algorithm for shipping a material between nodes with different supply and demand requirements.\n",
    "\n",
    "* Please write code *only* in the bodies of the two functions, that is, following the TODO comments.\n",
    "* Be careful not to use varibles defined outside of the functions.\n",
    "* Breaking the two above rules may lead to 0 grades."
   ]
  },
  {
   "cell_type": "markdown",
   "metadata": {},
   "source": [
    "## Movie distribution\n",
    "\n",
    "Recall Problem 1 from hw3t. \n",
    "\n",
    "Now suppose a movie distributor would like to ship a copy of a film from CA to every other state. There are therefore 48 units to ship out of CA, and each other state receives 1 unit. \n",
    "\n",
    "The dataset contiguous-usa.dat lists the adjacent states in the US. Each line lists two adjacent states; thus AK and HI are omitted, but DC is included in the data. The following code reads in the graph of US states."
   ]
  },
  {
   "cell_type": "code",
   "execution_count": 1,
   "metadata": {},
   "outputs": [],
   "source": [
    "import networkx as nx\n",
    "G = nx.Graph()\n",
    "\n",
    "usa = open('contiguous-usa.dat')\n",
    "for line in usa:\n",
    "    s1, s2 = line.strip().split()\n",
    "    G.add_edge(s1, s2)"
   ]
  },
  {
   "cell_type": "markdown",
   "metadata": {},
   "source": [
    "We now encode the demands into the graph."
   ]
  },
  {
   "cell_type": "code",
   "execution_count": 2,
   "metadata": {},
   "outputs": [],
   "source": [
    "for state in G.nodes():\n",
    "    if state != 'CA':\n",
    "        G.nodes[state]['demand'] = 1\n",
    "G.nodes['CA']['demand'] = -48"
   ]
  },
  {
   "cell_type": "markdown",
   "metadata": {},
   "source": [
    "We will assign a uniform capacity of 16 to each edge. Since CA has only three adjacent states, this is the smallest possible uniform capacity that allows one to ship all 48 units out of CA. As we have created an undirected graph, and flows have directions, we first convert the graph to a directed graph."
   ]
  },
  {
   "cell_type": "code",
   "execution_count": 3,
   "metadata": {},
   "outputs": [],
   "source": [
    "G = nx.DiGraph(G)\n",
    "uniform_capacity = 16\n",
    "for (s1, s2) in G.edges():\n",
    "    G.edges[s1, s2]['capacity'] = uniform_capacity"
   ]
  },
  {
   "cell_type": "markdown",
   "metadata": {},
   "source": [
    "Complete the following function to implement your algorithm to find a flow with demands. Your function should work correctly for any input, not just the movie instance considered here. As always, you are encouraged to define auxiliary functions as needed for clarity."
   ]
  },
  {
   "cell_type": "code",
   "execution_count": 4,
   "metadata": {},
   "outputs": [],
   "source": [
    "def flow_with_demands(graph):\n",
    "    \"\"\"Computes a flow with demands over the given graph.\n",
    "    \n",
    "    Args:\n",
    "        graph: A directed graph with nodes annotated with 'demand' properties and edges annotated with 'capacity' \n",
    "            properties.\n",
    "        \n",
    "    Returns:\n",
    "        A dict of dicts containing the flow on each edge. For instance, flow[s1][s2] should provide the flow along\n",
    "        edge (s1, s2).\n",
    "        \n",
    "    Raises:\n",
    "        NetworkXUnfeasible: An error is thrown if there is no flow satisfying the demands.\n",
    "    \"\"\"\n",
    "    \n",
    "    #DEMAND LISTS TO GET SOURCE AND SINK VALS\n",
    "    positive_demands = []\n",
    "    \n",
    "    negative_demands = []\n",
    "    \n",
    "    g = graph.copy()\n",
    "    \n",
    "    #APPEND DEMANDS TO LISTS\n",
    "    for node in g.nodes():\n",
    "        if g.nodes[node]['demand'] > 0:\n",
    "            positive_demands.append(g.nodes[node]['demand'])\n",
    "        elif g.nodes[node]['demand'] < 0:\n",
    "            negative_demands.append(g.nodes[node]['demand'])\n",
    "    \n",
    "    #SUM Ds TO CHECK THAT GRAPH IS FEASIBLE & GET SUPER SOURCE/SINK CAPCITIES\n",
    "    total_positive = sum(positive_demands)\n",
    "    total_negative = sum(negative_demands)\n",
    "    if total_positive != -1*total_negative:\n",
    "        return 'NetworkXUnfeasible'\n",
    "\n",
    "    H = graph.copy()\n",
    "    \n",
    "    H.add_node('super_sink')\n",
    "    H.nodes['super_sink']['demand'] = total_positive\n",
    "    \n",
    "    H.add_node('super_source')\n",
    "    H.nodes['super_source']['demand'] = total_negative\n",
    "    \n",
    "    #CONNECT SINKS TO SUPER SINK\n",
    "    for s1 in H.nodes():\n",
    "        for s2 in H.nodes():\n",
    "            if s2 == 'super_sink' and s1 != 'super_sink' and H.nodes[s1]['demand'] > 0:\n",
    "                H.add_edge(s1, s2)\n",
    "                \n",
    "    #CONNECT SUPER SOURCE TO SOURCES\n",
    "    for s1 in H.nodes():\n",
    "        for s2 in H.nodes():\n",
    "            if s1 == 'super_source' and s2 != 'super_source' and H.nodes[s1]['demand'] < 0:\n",
    "                H.add_edge(s1, s2)\n",
    "            \n",
    "    #ADDING NEW EDGE CAPCITIES\n",
    "    for (s1, s2) in H.edges():\n",
    "        if s2 == 'super_sink' and s1 != 'super_sink':\n",
    "            H.edges[s1, s2]['capacity'] = H.nodes[s1]['demand']\n",
    "        elif s1 == 'super_source' and s2 != 'super_source':\n",
    "            H.edges[s1, s2]['capacity'] = -1*H.nodes[s2]['demand']\n",
    "    \n",
    "    #GET MAX FLOW LARRY\n",
    "    max_flow = nx.maximum_flow(H, 'super_source', 'super_sink')\n",
    "    \n",
    "    #GET RID OF FLOWS TO SUPER SINK\n",
    "    for (node, connected) in max_flow[1].items():\n",
    "        connected.pop('super_sink', None)\n",
    "    \n",
    "    #GET RID OF SUPER SINK AND SUPER SOURCE ENTRIES\n",
    "    max_flow[1].pop('super_sink', None)\n",
    "    max_flow[1].pop('super_source', None)\n",
    "        \n",
    "    return max_flow[1]"
   ]
  },
  {
   "cell_type": "markdown",
   "metadata": {},
   "source": [
    "To verify that your solution is correct, implement a function that computes the total flow into each node (which will be negative for supply nodes)."
   ]
  },
  {
   "cell_type": "code",
   "execution_count": 5,
   "metadata": {},
   "outputs": [],
   "source": [
    "def divergence(flow):\n",
    "    \"\"\"Computes the total flow into each node according to the given flow dict.\n",
    "    \n",
    "    Args:\n",
    "        flow: the flow dict recording flow between nodes.\n",
    "        \n",
    "    Returns:\n",
    "        A dict of the net flow into each node.\n",
    "    \"\"\"\n",
    "    mf_copy = flow.copy()\n",
    "    mf_copy\n",
    "\n",
    "    #INITIALIZE VALUES FLOW VALUES TO 0\n",
    "    for state in mf_copy:\n",
    "        mf_copy[state]['flow_out'] = 0\n",
    "        mf_copy[state]['flow_in'] = 0\n",
    "\n",
    "\n",
    "    #NESTED FOR LOOP FOR STATE FLOW INTERACTIONS - FLOW IN AND OUT ADDED UP\n",
    "    for state in mf_copy:\n",
    "        borders = mf_copy[state]\n",
    "        for border in borders:\n",
    "            if border not in ('flow_in', 'flow_out'):\n",
    "                flow_considered = mf_copy[state][border]\n",
    "                mf_copy[state]['flow_out'] += flow_considered\n",
    "                mf_copy[border]['flow_in'] += flow_considered\n",
    "\n",
    "    #ANNNNNNND NET FLOW\n",
    "    for state in mf_copy:\n",
    "        mf_copy[state]['net_flow'] = mf_copy[state]['flow_in'] - mf_copy[state]['flow_out']\n",
    "\n",
    "    return_copy = {}\n",
    "\n",
    "    for state in mf_copy:\n",
    "        return_copy[state] = mf_copy[state]['net_flow']\n",
    "\n",
    "    return return_copy"
   ]
  },
  {
   "cell_type": "markdown",
   "metadata": {},
   "source": [
    "The following code performs a sanity check on your function (but does not completely confirm correctness)."
   ]
  },
  {
   "cell_type": "code",
   "execution_count": 6,
   "metadata": {},
   "outputs": [
    {
     "name": "stdout",
     "output_type": "stream",
     "text": [
      "Flow satisfies all demands: True\n"
     ]
    }
   ],
   "source": [
    "flow = flow_with_demands(G)\n",
    "div = divergence(flow)\n",
    "print (\"Flow satisfies all demands:\", all(div[n] == G.nodes[n]['demand'] for n in G.nodes()))"
   ]
  }
 ],
 "metadata": {
  "kernelspec": {
   "display_name": "Python 3 (ipykernel)",
   "language": "python",
   "name": "python3"
  },
  "language_info": {
   "codemirror_mode": {
    "name": "ipython",
    "version": 3
   },
   "file_extension": ".py",
   "mimetype": "text/x-python",
   "name": "python",
   "nbconvert_exporter": "python",
   "pygments_lexer": "ipython3",
   "version": "3.8.6"
  }
 },
 "nbformat": 4,
 "nbformat_minor": 1
}
